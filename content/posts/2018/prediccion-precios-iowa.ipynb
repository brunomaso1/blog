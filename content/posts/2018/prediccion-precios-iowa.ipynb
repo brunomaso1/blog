{
 "cells": [
  {
   "cell_type": "markdown",
   "metadata": {
    "toc": true
   },
   "source": [
    "<h1>Tabla de contenido<span class=\"tocSkip\"></span></h1>\n",
    "<div class=\"toc\"><ul class=\"toc-item\"><li><span><a href=\"#Entendimiento-del-negocio-\" data-toc-modified-id=\"Entendimiento-del-negocio--1\"><span class=\"toc-item-num\">1&nbsp;&nbsp;</span>Entendimiento del negocio <a class=\"anchor\" id=\"1-bullet\"></a></a></span><ul class=\"toc-item\"><li><span><a href=\"#Contexto-\" data-toc-modified-id=\"Contexto--1.1\"><span class=\"toc-item-num\">1.1&nbsp;&nbsp;</span>Contexto <a class=\"anchor\" id=\"1.1-bullet\"></a></a></span></li><li><span><a href=\"#DataSet-\" data-toc-modified-id=\"DataSet--1.2\"><span class=\"toc-item-num\">1.2&nbsp;&nbsp;</span>DataSet <a class=\"anchor\" id=\"1.2-bullet\"></a></a></span></li><li><span><a href=\"#Objetivo-\" data-toc-modified-id=\"Objetivo--1.3\"><span class=\"toc-item-num\">1.3&nbsp;&nbsp;</span>Objetivo <a class=\"anchor\" id=\"1.3-bullet\"></a></a></span></li></ul></li><li><span><a href=\"#Entendimiento-de-los-datos-\" data-toc-modified-id=\"Entendimiento-de-los-datos--2\"><span class=\"toc-item-num\">2&nbsp;&nbsp;</span>Entendimiento de los datos <a class=\"anchor\" id=\"2-bullet\"></a></a></span><ul class=\"toc-item\"><li><span><a href=\"#Atributos-\" data-toc-modified-id=\"Atributos--2.1\"><span class=\"toc-item-num\">2.1&nbsp;&nbsp;</span>Atributos <a class=\"anchor\" id=\"2.1-bullet\"></a></a></span></li><li><span><a href=\"#Análisis-de-los-atributos-\" data-toc-modified-id=\"Análisis-de-los-atributos--2.2\"><span class=\"toc-item-num\">2.2&nbsp;&nbsp;</span>Análisis de los atributos <a class=\"anchor\" id=\"2.2-bullet\"></a></a></span><ul class=\"toc-item\"><li><span><a href=\"#Importancia-\" data-toc-modified-id=\"Importancia--2.2.1\"><span class=\"toc-item-num\">2.2.1&nbsp;&nbsp;</span>Importancia <a class=\"anchor\" id=\"2.2.1-bullet\"></a></a></span></li></ul></li></ul></li><li><span><a href=\"#Preparación-de-los-datos-\" data-toc-modified-id=\"Preparación-de-los-datos--3\"><span class=\"toc-item-num\">3&nbsp;&nbsp;</span>Preparación de los datos <a class=\"anchor\" id=\"3-bullet\"></a></a></span><ul class=\"toc-item\"><li><span><a href=\"#Importación-de-librerías-\" data-toc-modified-id=\"Importación-de-librerías--3.1\"><span class=\"toc-item-num\">3.1&nbsp;&nbsp;</span>Importación de librerías <a class=\"anchor\" id=\"3.1-bullet\"></a></a></span></li><li><span><a href=\"#Importación-de-los-datos-\" data-toc-modified-id=\"Importación-de-los-datos--3.2\"><span class=\"toc-item-num\">3.2&nbsp;&nbsp;</span>Importación de los datos <a class=\"anchor\" id=\"3.2-bullet\"></a></a></span></li><li><span><a href=\"#Visualización-de-los-datos-\" data-toc-modified-id=\"Visualización-de-los-datos--3.3\"><span class=\"toc-item-num\">3.3&nbsp;&nbsp;</span>Visualización de los datos <a class=\"anchor\" id=\"3.3-bullet\"></a></a></span></li><li><span><a href=\"#Tratamiento-de-los-datos-\" data-toc-modified-id=\"Tratamiento-de-los-datos--3.4\"><span class=\"toc-item-num\">3.4&nbsp;&nbsp;</span>Tratamiento de los datos <a class=\"anchor\" id=\"3.4-bullet\"></a></a></span><ul class=\"toc-item\"><li><span><a href=\"#Sanitizar-los-datos-\" data-toc-modified-id=\"Sanitizar-los-datos--3.4.1\"><span class=\"toc-item-num\">3.4.1&nbsp;&nbsp;</span>Sanitizar los datos <a class=\"anchor\" id=\"3.4.1-bullet\"></a></a></span></li><li><span><a href=\"#Convertir-a-numerales-\" data-toc-modified-id=\"Convertir-a-numerales--3.4.2\"><span class=\"toc-item-num\">3.4.2&nbsp;&nbsp;</span>Convertir a numerales <a class=\"anchor\" id=\"3.4.2-bullet\"></a></a></span></li><li><span><a href=\"#Normalizar-los-datos-\" data-toc-modified-id=\"Normalizar-los-datos--3.4.3\"><span class=\"toc-item-num\">3.4.3&nbsp;&nbsp;</span>Normalizar los datos <a class=\"anchor\" id=\"3.4.3-bullet\"></a></a></span></li><li><span><a href=\"#Manejo-de-atributos-faltantes-\" data-toc-modified-id=\"Manejo-de-atributos-faltantes--3.4.4\"><span class=\"toc-item-num\">3.4.4&nbsp;&nbsp;</span>Manejo de atributos faltantes <a class=\"anchor\" id=\"3.4.4-bullet\"></a></a></span></li><li><span><a href=\"#Feature-extraction-\" data-toc-modified-id=\"Feature-extraction--3.4.5\"><span class=\"toc-item-num\">3.4.5&nbsp;&nbsp;</span>Feature extraction <a class=\"anchor\" id=\"3.4.5-bullet\"></a></a></span></li><li><span><a href=\"#En-codeado-numérico-\" data-toc-modified-id=\"En-codeado-numérico--3.4.6\"><span class=\"toc-item-num\">3.4.6&nbsp;&nbsp;</span>En-codeado numérico <a class=\"anchor\" id=\"3.4.6-bullet\"></a></a></span></li><li><span><a href=\"#Estandarización-\" data-toc-modified-id=\"Estandarización--3.4.7\"><span class=\"toc-item-num\">3.4.7&nbsp;&nbsp;</span>Estandarización <a class=\"anchor\" id=\"3.4.6-bullet\"></a></a></span></li></ul></li></ul></li><li><span><a href=\"#Modelado-\" data-toc-modified-id=\"Modelado--4\"><span class=\"toc-item-num\">4&nbsp;&nbsp;</span>Modelado <a class=\"anchor\" id=\"4-bullet\"></a></a></span><ul class=\"toc-item\"><li><span><a href=\"#Preparación-del-modelado-\" data-toc-modified-id=\"Preparación-del-modelado--4.1\"><span class=\"toc-item-num\">4.1&nbsp;&nbsp;</span>Preparación del modelado <a class=\"anchor\" id=\"4.1-bullet\"></a></a></span></li><li><span><a href=\"#Entrenamiento-de-los-modelos-\" data-toc-modified-id=\"Entrenamiento-de-los-modelos--4.2\"><span class=\"toc-item-num\">4.2&nbsp;&nbsp;</span>Entrenamiento de los modelos <a class=\"anchor\" id=\"4.2-bullet\"></a></a></span><ul class=\"toc-item\"><li><span><a href=\"#Linear-Regression-\" data-toc-modified-id=\"Linear-Regression--4.2.1\"><span class=\"toc-item-num\">4.2.1&nbsp;&nbsp;</span>Linear Regression <a class=\"anchor\" id=\"4.2.1-bullet\"></a></a></span></li><li><span><a href=\"#Linear-Regression,-L1-Regularisation-\" data-toc-modified-id=\"Linear-Regression,-L1-Regularisation--4.2.2\"><span class=\"toc-item-num\">4.2.2&nbsp;&nbsp;</span>Linear Regression, L1 Regularisation <a class=\"anchor\" id=\"4.2.2-bullet\"></a></a></span></li></ul></li><li><span><a href=\"#Comparación-de-modelos-\" data-toc-modified-id=\"Comparación-de-modelos--4.3\"><span class=\"toc-item-num\">4.3&nbsp;&nbsp;</span>Comparación de modelos <a class=\"anchor\" id=\"4.3.3-bullet\"></a></a></span></li></ul></li></ul></div>"
   ]
  },
  {
   "cell_type": "markdown",
   "metadata": {},
   "source": [
    "## Entendimiento del negocio <a class=\"anchor\" id=\"1-bullet\"></a>\n",
    "---\n",
    "\n",
    "<div style=\"text-align:center\"><small><a href=\"https://www.kaggle.com/rbyron/simple-linear-regression-models/notebook\">https://www.kaggle.com/rbyron/simple-linear-regression-models/notebook</a></small></div><br/>\n",
    "\n",
    "<small><a href=\"https://www.kaggle.com/c/house-prices-advanced-regression-techniques#description\">https://www.kaggle.com/c/house-prices-advanced-regression-techniques#description</a></small>\n",
    "\n",
    "<div style=\"text-align:center\"><img src=\"http://1077thejewel.com/wp-content/uploads/HousePrices.png\" alt=\"drawing\" width=\"100%\" height=\"100%\"/></div><br/>\n",
    "\n",
    "### Contexto <a class=\"anchor\" id=\"1.1-bullet\"></a>\n",
    "\n",
    "El siguiente problema es utilizado como toque inicial para entender los algoritmos lineales.\n",
    "\n",
    "El mercado inmobiliario en Uruguay está en pleno auge, ya que el gobierno ofrece varios incentivos para facilitar la compra-venta y construcción de inmuebles. Aún más, cuando el mercado de alquileres no está regulado por el gobierno, simplemente se basa en la oferta y demanda, y actualmente, la demanda es muy alta, por lo que inversores se ven muy tentado a la rentabilidad que deja el alquiler de los inmuebles.\n",
    "\n",
    "Este problema es interesante en el ámbito de Machine Learning por el gran interés que hay en predecir el precio de los inmuebles, para así tener una idea de la inversión a realizar.\n",
    "\n",
    "<div style=\"text-align:center\"><img src=\"https://livability.com/sites/default/files/1Reiman%20Gardens.JPG\" alt=\"drawing\" width=\"100%\" height=\"100%\"/></div><br/>\n",
    "\n",
    "### DataSet <a class=\"anchor\" id=\"1.2-bullet\"></a>\n",
    "\n",
    "El siguiente dataset contiene información sobre los inmuebles, fue obtenido de los hogares de Ames en Iowa. Es un recurso alternativo al conocido dataset de \"Boston Housing\". \n",
    "\n",
    "El conjunto ya está dividido en dos subconjuntos. Uno de entrenamiento y otro de test.\n",
    "\n",
    "### Objetivo <a class=\"anchor\" id=\"1.3-bullet\"></a>\n",
    "\n",
    "El objetivo de este problema es lograr predecir el precio de las casas en Ames."
   ]
  },
  {
   "cell_type": "markdown",
   "metadata": {},
   "source": [
    "## Entendimiento de los datos <a class=\"anchor\" id=\"2-bullet\"></a>\n",
    "---\n",
    "\n",
    "El conjunto del problema tiene dos subconjuntos:\n",
    "- Test.\n",
    "- Entrenamiento."
   ]
  },
  {
   "cell_type": "markdown",
   "metadata": {},
   "source": [
    "### Atributos <a class=\"anchor\" id=\"2.1-bullet\"></a>\n",
    "\n",
    "Los atributos presentes en el conjunto, y sus definiciones son los siguientes:\n",
    "\n",
    "- MSSubClass: Identifica el tipo de vivienda involucrado en la venta.\n",
    "- MSZoning: Identifica la clasificación general de zonificación de la venta.\n",
    "- LotFrontage: Distancia en pies lineal de la calle conectado a la propiedad.\n",
    "- LotArea: Tamaño del lote en pies cuadrados.\n",
    "- Street: Tipo de acceso por carretera a la propiedad.       \n",
    "- Alley: Tipo de acceso al callejón a la propiedad.\n",
    "- LotShape: Forma general de la propiedad.       \n",
    "- LandContour: Planitud de la propiedad.\n",
    "- Utilities: Tipo de utilidades disponibles.\n",
    "- LotConfig: Configuración del lote.\n",
    "- LandSlope: Pendiente de la propiedad.\n",
    "- Neighborhood: Ubicaciones físicas dentro de los límites de la ciudad de Ames.\n",
    "- Condition1: Proximidad a diversas condiciones.\n",
    "- Condition2: Proximidad a varias condiciones (si hay más de una presente).\n",
    "- BldgType: Tipo de vivienda.\n",
    "- HouseStyle: Estilo de vivienda.\n",
    "- OverallQual: Califica el material general y el acabado de la casa.\n",
    "- OverallCond: Califica el estado general de la casa.\n",
    "- YearBuilt: Fecha de construcción original.\n",
    "- YearRemodAdd: Fecha de remodelación (igual que la fecha de construcción si no hay remodelaciones o adiciones).\n",
    "- RoofStyle: Tipo de techo.\n",
    "- RoofMatl: Material del techo.\n",
    "- Exterior1st: Revestimiento exterior en la casa.\n",
    "- Exterior2nd: Cubierta exterior en la casa (si hay más de un material).\n",
    "- MasVnrType: Tipo de chapa de mampostería.\n",
    "- MasVnrArea: Área de la chapa en pies cuadrados.\n",
    "- ExterQual: Evalúa la calidad del material en el exterior.\n",
    "- ExterCond: Evalúa la condición actual del material en el exterior.\n",
    "- Foundation: Tipo de plancha.\n",
    "- BsmtQual: Evalúa la altura del sótano.\n",
    "- BsmtCond: Evalúa el estado general del sótano.\n",
    "- BsmtExposure: Se refiere a la exposición.\n",
    "- BsmtFinType1: Calificación del área del sótano.\n",
    "- BsmtFinSF1: Tipo 1 de sótano terminado en pies cuadrados.\n",
    "- BsmtFinType2: Calificación del área terminada del sótano (si hay varios tipos).\n",
    "- BsmtFinSF2: Tipo 2 de sótano terminado en pies cuadrados.\n",
    "- BsmtUnfSF: Pies cuadrados sin terminar del área del sótano.\n",
    "- TotalBsmtSF: pies cuadrados totales del área del sótano.\n",
    "- Heating: Tipo de calefacción.\n",
    "- HeatingQC: Calidad y condición de la calefacción.\n",
    "- CentralAir: Aire acondicionado central.       \n",
    "- Eléctrico: Sistema eléctrico.\n",
    "- 1stFlrSF: Pies cuadrados del primer piso. \n",
    "- 2ndFlrSF: Pies cuadrados del segundo piso.\n",
    "- LowQualFinSF: Pies cuadrados terminados de baja calidad (todos los pisos).\n",
    "- GrLivArea: Pies cuadrados del área habitable sobre el nivel del suelo.\n",
    "- BsmtFullBath: Baños completos en el sótano.\n",
    "- BsmtHalfBath: Medio baño en el sótano.\n",
    "- FullBath: Baños completos por encima del grado.\n",
    "- HalfBath: Medio baño por encima del grado.\n",
    "- Bedroom: Dormitorios sobre el nivel (NO incluye habitaciones en el sótano).\n",
    "- Kitchen: Cocinas por encima del grado.\n",
    "- KitchenQual: Calidad de la cocina.       \n",
    "- TotRmsAbvGrd: Total de habitaciones por encima del grado (no incluye baños).\n",
    "- Funcional: Funcionalidad del hogar.\n",
    "- Fireplaces: Cantidad de chimeneas.\n",
    "- FireplaceQu: Calidad de la chimenea.\n",
    "- GarageType: Ubicación del garaje.\n",
    "- GarageYrBlt: Año de garaje fue construido.\n",
    "- GarageFinish: Acabado interior del garaje.\n",
    "- GarageCars: Tamaño del garaje en función de capacidad de un automóvil.\n",
    "- GarageArea: Tamaño del garaje en pies cuadrados.\n",
    "- GarageQual: Calidad de garaje.\n",
    "- GarageCond: Condición de garaje.\n",
    "- PavedDrive: Calzada pavimentada.\n",
    "- WoodDeckSF: Área de cubierta de madera en pies cuadrados.\n",
    "- OpenPorchSF: Área de porche abierto en pies cuadrados.\n",
    "- EnclosedPorch: Área de porche cerrado en pies cuadrados.\n",
    "- 3SsnPorch: Área del porche (tipo tres estaciones) en pies cuadrados.\n",
    "- ScreenPorch: Área visible del porche en pies cuadrados.\n",
    "- PoolArea: Área de la piscina en pies cuadrados.\n",
    "- PoolQC: Calidad de la piscina.\n",
    "- Fence: Calidad de la cerca.\n",
    "- MiscFeature: Característica miscelánea no cubierta en otras categorías.\n",
    "- MiscVal: Valor de la característica miscelánea.\n",
    "- MoSold: Mes vendido (MM).\n",
    "- YrSold: Año vendido (YYYY).\n",
    "- SaleType: Tipo de venta.\n",
    "- Sale Condition: Condición de venta."
   ]
  },
  {
   "cell_type": "markdown",
   "metadata": {},
   "source": [
    "Como podemos ver hay **80** atributos y uno más que es el precio de venta (*SalePrice*), la cual es la variable dependiente a producir."
   ]
  },
  {
   "cell_type": "markdown",
   "metadata": {},
   "source": [
    "### Análisis de los atributos <a class=\"anchor\" id=\"2.2-bullet\"></a>\n",
    "\n",
    "En esta sección se hace un análisis previo de los atributos."
   ]
  },
  {
   "cell_type": "markdown",
   "metadata": {},
   "source": [
    "#### Importancia <a class=\"anchor\" id=\"2.2.1-bullet\"></a>\n",
    "\n",
    "La importancia de los atributos con respecto al contexto es muy importante, ya que atributos que no tienen importancia dado el contexto, pueden afectar la predicción final.\n",
    "\n",
    "En este problema, todos los atributos están, de un modo u otro, relacionado con la compra de un inmueble. Si bien no son atributos que una persona elegiría para comparar directamente, puede que lo haga indirectamente o sin darse cuenta.\n",
    "\n",
    "Por este motivo, en este caso no podemos eliminar ningún atributo por baja importancia sobre el problema, ni que sea previamente."
   ]
  },
  {
   "cell_type": "markdown",
   "metadata": {},
   "source": [
    "## Preparación de los datos <a class=\"anchor\" id=\"3-bullet\"></a>\n",
    "---\n",
    "\n",
    "En esta sección se preparan los datos para ser utilizados por varios modelos. Se tiene en cuenta las restricciones de los modelos, por lo que se pueden preparar varios conjuntos para distintos modelos (un enfoque educativo).\n",
    "\n",
    "Estos problemas usualmente se modelan con modelos lineares. Como es un problema que se intenta predecir un valor dado un conjunto de atributos, es un problema de regresión, por lo que un modelo a utilizar sin duda es la Regresión Lineal.\n",
    "\n",
    "Los algoritmos lineales son muy sensibles, y los requerimientos clásicos de los algoritmos lineales son los siguientes (*Master Machine Learning Algoritms - Jason Brownlee*):\n",
    "\n",
    "> 1. Linear Assumption. Linear regression assumes that the relationship between your input and output is linear. It does not support anything else. This may be obvious, but it is good to remember when you have a lot of attributes. You may need to transform data to make the relationship linear (e.g. log transform for an exponential relationship).\n",
    "> 2. Remove Noise. Linear regression assumes that your input and output variables are not noisy. Consider using data cleaning operations that let you better expose and clarify the signal in your data. This is most important for the output variable and you want to remove outliers in the output variable (y) if possible.\n",
    "> 3. Remove Collinearity. Linear regression will over-fit your data when you have highly correlated input variables. Consider calculating pairwise correlations for your input data and removing the most correlated.\n",
    "> 4. Gaussian Distributions. Linear regression will make more reliable predictions if your input and output variables have a Gaussian distribution. You may get some benefit using transforms (e.g. log or BoxCox) on you variables to make their distribution more Gaussian looking.\n",
    "> 5. Rescale Inputs: Linear regression will often make more reliable predictions if you rescale input variables using standardization or normalization.\n",
    "\n",
    "O sea:\n",
    "\n",
    "1. Asumir una relación lineal entre los datos.\n",
    "2. Remover el ruido.\n",
    "3. Remover atributos correlacionados.\n",
    "4. Distribución gaussiana.\n",
    "5. Normalizar entradas."
   ]
  },
  {
   "cell_type": "markdown",
   "metadata": {},
   "source": [
    "### Importación de librerías <a class=\"anchor\" id=\"3.1-bullet\"></a>\n",
    "\n",
    "Las librerías a utilizar son las siguientes:\n",
    "\n",
    "- ```numpy``` $\\rightarrow$ NumPy es el paquete fundamental para la informática científica con Python (http://www.numpy.org/).\n",
    "- ```pandas``` $\\rightarrow$ Pandas provee herramientas para la importación y el fácil análisis de los datos (https://pandas.pydata.org/).\n",
    "- ```matplotlib``` $\\rightarrow$ Matplotlib permite graficar los datos (https://matplotlib.org/).\n",
    "- ```seaborn``` $\\rightarrow$ Seaborn permite una linda visualización estadística de los datos, en conjunción con matplotlib (https://seaborn.pydata.org/).\n",
    "- ```pandas_profiling``` $\\rightarrow$ Brinda un completo resumen de los datos (https://github.com/pandas-profiling/pandas-profiling)."
   ]
  },
  {
   "cell_type": "code",
   "execution_count": 48,
   "metadata": {},
   "outputs": [],
   "source": [
    "import numpy as np \n",
    "import pandas as pd \n",
    "\n",
    "import seaborn as sns\n",
    "from matplotlib import pyplot as plt\n",
    "%matplotlib inline\n",
    "sns.set_style(\"whitegrid\")\n",
    "\n",
    "import pandas_profiling\n",
    "\n",
    "import warnings\n",
    "warnings.filterwarnings('ignore')"
   ]
  },
  {
   "cell_type": "markdown",
   "metadata": {},
   "source": [
    "### Importación de los datos <a class=\"anchor\" id=\"3.2-bullet\"></a>\n",
    "\n",
    "Para importar los datos utilizamos Pandas (```pd.read_csv()```), con los cual los cargamos en la estructura de datos **Dataframe** de Pandas."
   ]
  },
  {
   "cell_type": "code",
   "execution_count": 49,
   "metadata": {},
   "outputs": [],
   "source": [
    "# Datos de entrenamiento.\n",
    "training = pd.read_csv(\"../../datasets/prediccion-precios-iowa-train.csv\")\n",
    "\n",
    "# Datos para testing.\n",
    "testing = pd.read_csv(\"../../datasets/prediccion-precios-iowa-test.csv\")"
   ]
  },
  {
   "cell_type": "code",
   "execution_count": 50,
   "metadata": {},
   "outputs": [],
   "source": [
    "# Obtenemos el Id de los datos.\n",
    "testID = testing['Id']\n",
    "\n",
    "# Creamos un conjunto data que tiene ambos conjuntos, para así realizar las transformaciones a ambos también.\n",
    "data = pd.concat([training.drop('SalePrice', axis=1), testing], keys=['train', 'test'])\n",
    "\n",
    "# Eliminamos el índice.\n",
    "data.drop(['Id'], axis=1, inplace=True)"
   ]
  },
  {
   "cell_type": "markdown",
   "metadata": {},
   "source": [
    "### Visualización de los datos <a class=\"anchor\" id=\"3.3-bullet\"></a>\n",
    "\n",
    "Para visualizar los datos podemos utilizar varias de las funciones de Pandas, como lo son:\n",
    "\n",
    "- ```pd.dataframe.head()```\n",
    "- ```pd.dataframe.sample(5)```\n",
    "- ```pd.dataframe.keys()```"
   ]
  },
  {
   "cell_type": "code",
   "execution_count": 51,
   "metadata": {},
   "outputs": [
    {
     "data": {
      "text/html": [
       "<div>\n",
       "<style scoped>\n",
       "    .dataframe tbody tr th:only-of-type {\n",
       "        vertical-align: middle;\n",
       "    }\n",
       "\n",
       "    .dataframe tbody tr th {\n",
       "        vertical-align: top;\n",
       "    }\n",
       "\n",
       "    .dataframe thead th {\n",
       "        text-align: right;\n",
       "    }\n",
       "</style>\n",
       "<table border=\"1\" class=\"dataframe\">\n",
       "  <thead>\n",
       "    <tr style=\"text-align: right;\">\n",
       "      <th></th>\n",
       "      <th></th>\n",
       "      <th>MSSubClass</th>\n",
       "      <th>MSZoning</th>\n",
       "      <th>LotFrontage</th>\n",
       "      <th>LotArea</th>\n",
       "      <th>Street</th>\n",
       "      <th>Alley</th>\n",
       "      <th>LotShape</th>\n",
       "      <th>LandContour</th>\n",
       "      <th>Utilities</th>\n",
       "      <th>LotConfig</th>\n",
       "      <th>...</th>\n",
       "      <th>ScreenPorch</th>\n",
       "      <th>PoolArea</th>\n",
       "      <th>PoolQC</th>\n",
       "      <th>Fence</th>\n",
       "      <th>MiscFeature</th>\n",
       "      <th>MiscVal</th>\n",
       "      <th>MoSold</th>\n",
       "      <th>YrSold</th>\n",
       "      <th>SaleType</th>\n",
       "      <th>SaleCondition</th>\n",
       "    </tr>\n",
       "  </thead>\n",
       "  <tbody>\n",
       "    <tr>\n",
       "      <th rowspan=\"5\" valign=\"top\">train</th>\n",
       "      <th>0</th>\n",
       "      <td>60</td>\n",
       "      <td>RL</td>\n",
       "      <td>65.0</td>\n",
       "      <td>8450</td>\n",
       "      <td>Pave</td>\n",
       "      <td>NaN</td>\n",
       "      <td>Reg</td>\n",
       "      <td>Lvl</td>\n",
       "      <td>AllPub</td>\n",
       "      <td>Inside</td>\n",
       "      <td>...</td>\n",
       "      <td>0</td>\n",
       "      <td>0</td>\n",
       "      <td>NaN</td>\n",
       "      <td>NaN</td>\n",
       "      <td>NaN</td>\n",
       "      <td>0</td>\n",
       "      <td>2</td>\n",
       "      <td>2008</td>\n",
       "      <td>WD</td>\n",
       "      <td>Normal</td>\n",
       "    </tr>\n",
       "    <tr>\n",
       "      <th>1</th>\n",
       "      <td>20</td>\n",
       "      <td>RL</td>\n",
       "      <td>80.0</td>\n",
       "      <td>9600</td>\n",
       "      <td>Pave</td>\n",
       "      <td>NaN</td>\n",
       "      <td>Reg</td>\n",
       "      <td>Lvl</td>\n",
       "      <td>AllPub</td>\n",
       "      <td>FR2</td>\n",
       "      <td>...</td>\n",
       "      <td>0</td>\n",
       "      <td>0</td>\n",
       "      <td>NaN</td>\n",
       "      <td>NaN</td>\n",
       "      <td>NaN</td>\n",
       "      <td>0</td>\n",
       "      <td>5</td>\n",
       "      <td>2007</td>\n",
       "      <td>WD</td>\n",
       "      <td>Normal</td>\n",
       "    </tr>\n",
       "    <tr>\n",
       "      <th>2</th>\n",
       "      <td>60</td>\n",
       "      <td>RL</td>\n",
       "      <td>68.0</td>\n",
       "      <td>11250</td>\n",
       "      <td>Pave</td>\n",
       "      <td>NaN</td>\n",
       "      <td>IR1</td>\n",
       "      <td>Lvl</td>\n",
       "      <td>AllPub</td>\n",
       "      <td>Inside</td>\n",
       "      <td>...</td>\n",
       "      <td>0</td>\n",
       "      <td>0</td>\n",
       "      <td>NaN</td>\n",
       "      <td>NaN</td>\n",
       "      <td>NaN</td>\n",
       "      <td>0</td>\n",
       "      <td>9</td>\n",
       "      <td>2008</td>\n",
       "      <td>WD</td>\n",
       "      <td>Normal</td>\n",
       "    </tr>\n",
       "    <tr>\n",
       "      <th>3</th>\n",
       "      <td>70</td>\n",
       "      <td>RL</td>\n",
       "      <td>60.0</td>\n",
       "      <td>9550</td>\n",
       "      <td>Pave</td>\n",
       "      <td>NaN</td>\n",
       "      <td>IR1</td>\n",
       "      <td>Lvl</td>\n",
       "      <td>AllPub</td>\n",
       "      <td>Corner</td>\n",
       "      <td>...</td>\n",
       "      <td>0</td>\n",
       "      <td>0</td>\n",
       "      <td>NaN</td>\n",
       "      <td>NaN</td>\n",
       "      <td>NaN</td>\n",
       "      <td>0</td>\n",
       "      <td>2</td>\n",
       "      <td>2006</td>\n",
       "      <td>WD</td>\n",
       "      <td>Abnorml</td>\n",
       "    </tr>\n",
       "    <tr>\n",
       "      <th>4</th>\n",
       "      <td>60</td>\n",
       "      <td>RL</td>\n",
       "      <td>84.0</td>\n",
       "      <td>14260</td>\n",
       "      <td>Pave</td>\n",
       "      <td>NaN</td>\n",
       "      <td>IR1</td>\n",
       "      <td>Lvl</td>\n",
       "      <td>AllPub</td>\n",
       "      <td>FR2</td>\n",
       "      <td>...</td>\n",
       "      <td>0</td>\n",
       "      <td>0</td>\n",
       "      <td>NaN</td>\n",
       "      <td>NaN</td>\n",
       "      <td>NaN</td>\n",
       "      <td>0</td>\n",
       "      <td>12</td>\n",
       "      <td>2008</td>\n",
       "      <td>WD</td>\n",
       "      <td>Normal</td>\n",
       "    </tr>\n",
       "  </tbody>\n",
       "</table>\n",
       "<p>5 rows × 79 columns</p>\n",
       "</div>"
      ],
      "text/plain": [
       "         MSSubClass MSZoning  LotFrontage  LotArea Street Alley LotShape  \\\n",
       "train 0          60       RL         65.0     8450   Pave   NaN      Reg   \n",
       "      1          20       RL         80.0     9600   Pave   NaN      Reg   \n",
       "      2          60       RL         68.0    11250   Pave   NaN      IR1   \n",
       "      3          70       RL         60.0     9550   Pave   NaN      IR1   \n",
       "      4          60       RL         84.0    14260   Pave   NaN      IR1   \n",
       "\n",
       "        LandContour Utilities LotConfig      ...       ScreenPorch PoolArea  \\\n",
       "train 0         Lvl    AllPub    Inside      ...                 0        0   \n",
       "      1         Lvl    AllPub       FR2      ...                 0        0   \n",
       "      2         Lvl    AllPub    Inside      ...                 0        0   \n",
       "      3         Lvl    AllPub    Corner      ...                 0        0   \n",
       "      4         Lvl    AllPub       FR2      ...                 0        0   \n",
       "\n",
       "        PoolQC Fence MiscFeature MiscVal  MoSold  YrSold  SaleType  \\\n",
       "train 0    NaN   NaN         NaN       0       2    2008        WD   \n",
       "      1    NaN   NaN         NaN       0       5    2007        WD   \n",
       "      2    NaN   NaN         NaN       0       9    2008        WD   \n",
       "      3    NaN   NaN         NaN       0       2    2006        WD   \n",
       "      4    NaN   NaN         NaN       0      12    2008        WD   \n",
       "\n",
       "         SaleCondition  \n",
       "train 0         Normal  \n",
       "      1         Normal  \n",
       "      2         Normal  \n",
       "      3        Abnorml  \n",
       "      4         Normal  \n",
       "\n",
       "[5 rows x 79 columns]"
      ]
     },
     "execution_count": 51,
     "metadata": {},
     "output_type": "execute_result"
    }
   ],
   "source": [
    "# Ver los primeros 5 datos.\n",
    "data.head()"
   ]
  },
  {
   "cell_type": "code",
   "execution_count": 52,
   "metadata": {},
   "outputs": [
    {
     "data": {
      "text/html": [
       "<div>\n",
       "<style scoped>\n",
       "    .dataframe tbody tr th:only-of-type {\n",
       "        vertical-align: middle;\n",
       "    }\n",
       "\n",
       "    .dataframe tbody tr th {\n",
       "        vertical-align: top;\n",
       "    }\n",
       "\n",
       "    .dataframe thead th {\n",
       "        text-align: right;\n",
       "    }\n",
       "</style>\n",
       "<table border=\"1\" class=\"dataframe\">\n",
       "  <thead>\n",
       "    <tr style=\"text-align: right;\">\n",
       "      <th></th>\n",
       "      <th></th>\n",
       "      <th>MSSubClass</th>\n",
       "      <th>MSZoning</th>\n",
       "      <th>LotFrontage</th>\n",
       "      <th>LotArea</th>\n",
       "      <th>Street</th>\n",
       "      <th>Alley</th>\n",
       "      <th>LotShape</th>\n",
       "      <th>LandContour</th>\n",
       "      <th>Utilities</th>\n",
       "      <th>LotConfig</th>\n",
       "      <th>...</th>\n",
       "      <th>ScreenPorch</th>\n",
       "      <th>PoolArea</th>\n",
       "      <th>PoolQC</th>\n",
       "      <th>Fence</th>\n",
       "      <th>MiscFeature</th>\n",
       "      <th>MiscVal</th>\n",
       "      <th>MoSold</th>\n",
       "      <th>YrSold</th>\n",
       "      <th>SaleType</th>\n",
       "      <th>SaleCondition</th>\n",
       "    </tr>\n",
       "  </thead>\n",
       "  <tbody>\n",
       "    <tr>\n",
       "      <th rowspan=\"2\" valign=\"top\">train</th>\n",
       "      <th>1345</th>\n",
       "      <td>30</td>\n",
       "      <td>RM</td>\n",
       "      <td>50.0</td>\n",
       "      <td>6000</td>\n",
       "      <td>Pave</td>\n",
       "      <td>NaN</td>\n",
       "      <td>Reg</td>\n",
       "      <td>Lvl</td>\n",
       "      <td>AllPub</td>\n",
       "      <td>Inside</td>\n",
       "      <td>...</td>\n",
       "      <td>0</td>\n",
       "      <td>0</td>\n",
       "      <td>NaN</td>\n",
       "      <td>NaN</td>\n",
       "      <td>NaN</td>\n",
       "      <td>0</td>\n",
       "      <td>7</td>\n",
       "      <td>2007</td>\n",
       "      <td>WD</td>\n",
       "      <td>Normal</td>\n",
       "    </tr>\n",
       "    <tr>\n",
       "      <th>220</th>\n",
       "      <td>20</td>\n",
       "      <td>RL</td>\n",
       "      <td>73.0</td>\n",
       "      <td>8990</td>\n",
       "      <td>Pave</td>\n",
       "      <td>NaN</td>\n",
       "      <td>IR1</td>\n",
       "      <td>Lvl</td>\n",
       "      <td>AllPub</td>\n",
       "      <td>Inside</td>\n",
       "      <td>...</td>\n",
       "      <td>0</td>\n",
       "      <td>0</td>\n",
       "      <td>NaN</td>\n",
       "      <td>NaN</td>\n",
       "      <td>NaN</td>\n",
       "      <td>0</td>\n",
       "      <td>4</td>\n",
       "      <td>2006</td>\n",
       "      <td>New</td>\n",
       "      <td>Partial</td>\n",
       "    </tr>\n",
       "    <tr>\n",
       "      <th rowspan=\"2\" valign=\"top\">test</th>\n",
       "      <th>997</th>\n",
       "      <td>70</td>\n",
       "      <td>RM</td>\n",
       "      <td>50.0</td>\n",
       "      <td>6000</td>\n",
       "      <td>Pave</td>\n",
       "      <td>NaN</td>\n",
       "      <td>Reg</td>\n",
       "      <td>Lvl</td>\n",
       "      <td>AllPub</td>\n",
       "      <td>Inside</td>\n",
       "      <td>...</td>\n",
       "      <td>0</td>\n",
       "      <td>0</td>\n",
       "      <td>NaN</td>\n",
       "      <td>GdWo</td>\n",
       "      <td>NaN</td>\n",
       "      <td>0</td>\n",
       "      <td>2</td>\n",
       "      <td>2007</td>\n",
       "      <td>WD</td>\n",
       "      <td>Normal</td>\n",
       "    </tr>\n",
       "    <tr>\n",
       "      <th>1157</th>\n",
       "      <td>20</td>\n",
       "      <td>RL</td>\n",
       "      <td>NaN</td>\n",
       "      <td>39384</td>\n",
       "      <td>Pave</td>\n",
       "      <td>NaN</td>\n",
       "      <td>IR1</td>\n",
       "      <td>Low</td>\n",
       "      <td>AllPub</td>\n",
       "      <td>CulDSac</td>\n",
       "      <td>...</td>\n",
       "      <td>0</td>\n",
       "      <td>0</td>\n",
       "      <td>NaN</td>\n",
       "      <td>NaN</td>\n",
       "      <td>NaN</td>\n",
       "      <td>0</td>\n",
       "      <td>10</td>\n",
       "      <td>2006</td>\n",
       "      <td>WD</td>\n",
       "      <td>Abnorml</td>\n",
       "    </tr>\n",
       "    <tr>\n",
       "      <th>train</th>\n",
       "      <th>595</th>\n",
       "      <td>20</td>\n",
       "      <td>RL</td>\n",
       "      <td>69.0</td>\n",
       "      <td>11302</td>\n",
       "      <td>Pave</td>\n",
       "      <td>NaN</td>\n",
       "      <td>IR1</td>\n",
       "      <td>Lvl</td>\n",
       "      <td>AllPub</td>\n",
       "      <td>Inside</td>\n",
       "      <td>...</td>\n",
       "      <td>120</td>\n",
       "      <td>0</td>\n",
       "      <td>NaN</td>\n",
       "      <td>NaN</td>\n",
       "      <td>NaN</td>\n",
       "      <td>0</td>\n",
       "      <td>8</td>\n",
       "      <td>2006</td>\n",
       "      <td>New</td>\n",
       "      <td>Partial</td>\n",
       "    </tr>\n",
       "  </tbody>\n",
       "</table>\n",
       "<p>5 rows × 79 columns</p>\n",
       "</div>"
      ],
      "text/plain": [
       "            MSSubClass MSZoning  LotFrontage  LotArea Street Alley LotShape  \\\n",
       "train 1345          30       RM         50.0     6000   Pave   NaN      Reg   \n",
       "      220           20       RL         73.0     8990   Pave   NaN      IR1   \n",
       "test  997           70       RM         50.0     6000   Pave   NaN      Reg   \n",
       "      1157          20       RL          NaN    39384   Pave   NaN      IR1   \n",
       "train 595           20       RL         69.0    11302   Pave   NaN      IR1   \n",
       "\n",
       "           LandContour Utilities LotConfig      ...       ScreenPorch  \\\n",
       "train 1345         Lvl    AllPub    Inside      ...                 0   \n",
       "      220          Lvl    AllPub    Inside      ...                 0   \n",
       "test  997          Lvl    AllPub    Inside      ...                 0   \n",
       "      1157         Low    AllPub   CulDSac      ...                 0   \n",
       "train 595          Lvl    AllPub    Inside      ...               120   \n",
       "\n",
       "           PoolArea PoolQC Fence MiscFeature MiscVal  MoSold  YrSold  \\\n",
       "train 1345        0    NaN   NaN         NaN       0       7    2007   \n",
       "      220         0    NaN   NaN         NaN       0       4    2006   \n",
       "test  997         0    NaN  GdWo         NaN       0       2    2007   \n",
       "      1157        0    NaN   NaN         NaN       0      10    2006   \n",
       "train 595         0    NaN   NaN         NaN       0       8    2006   \n",
       "\n",
       "            SaleType  SaleCondition  \n",
       "train 1345        WD         Normal  \n",
       "      220        New        Partial  \n",
       "test  997         WD         Normal  \n",
       "      1157        WD        Abnorml  \n",
       "train 595        New        Partial  \n",
       "\n",
       "[5 rows x 79 columns]"
      ]
     },
     "execution_count": 52,
     "metadata": {},
     "output_type": "execute_result"
    }
   ],
   "source": [
    "# Ver una muestra aleatoria de 5.\n",
    "data.sample(5)"
   ]
  },
  {
   "cell_type": "code",
   "execution_count": 53,
   "metadata": {},
   "outputs": [
    {
     "data": {
      "text/plain": [
       "Index(['MSSubClass', 'MSZoning', 'LotFrontage', 'LotArea', 'Street', 'Alley',\n",
       "       'LotShape', 'LandContour', 'Utilities', 'LotConfig', 'LandSlope',\n",
       "       'Neighborhood', 'Condition1', 'Condition2', 'BldgType', 'HouseStyle',\n",
       "       'OverallQual', 'OverallCond', 'YearBuilt', 'YearRemodAdd', 'RoofStyle',\n",
       "       'RoofMatl', 'Exterior1st', 'Exterior2nd', 'MasVnrType', 'MasVnrArea',\n",
       "       'ExterQual', 'ExterCond', 'Foundation', 'BsmtQual', 'BsmtCond',\n",
       "       'BsmtExposure', 'BsmtFinType1', 'BsmtFinSF1', 'BsmtFinType2',\n",
       "       'BsmtFinSF2', 'BsmtUnfSF', 'TotalBsmtSF', 'Heating', 'HeatingQC',\n",
       "       'CentralAir', 'Electrical', '1stFlrSF', '2ndFlrSF', 'LowQualFinSF',\n",
       "       'GrLivArea', 'BsmtFullBath', 'BsmtHalfBath', 'FullBath', 'HalfBath',\n",
       "       'BedroomAbvGr', 'KitchenAbvGr', 'KitchenQual', 'TotRmsAbvGrd',\n",
       "       'Functional', 'Fireplaces', 'FireplaceQu', 'GarageType', 'GarageYrBlt',\n",
       "       'GarageFinish', 'GarageCars', 'GarageArea', 'GarageQual', 'GarageCond',\n",
       "       'PavedDrive', 'WoodDeckSF', 'OpenPorchSF', 'EnclosedPorch', '3SsnPorch',\n",
       "       'ScreenPorch', 'PoolArea', 'PoolQC', 'Fence', 'MiscFeature', 'MiscVal',\n",
       "       'MoSold', 'YrSold', 'SaleType', 'SaleCondition'],\n",
       "      dtype='object')"
      ]
     },
     "execution_count": 53,
     "metadata": {},
     "output_type": "execute_result"
    }
   ],
   "source": [
    "# Ver los atributos.\n",
    "data.keys()"
   ]
  },
  {
   "cell_type": "markdown",
   "metadata": {},
   "source": [
    "Podemos ver información sobre el conjunto utilizando ```pd.dataframe.info()```"
   ]
  },
  {
   "cell_type": "code",
   "execution_count": 54,
   "metadata": {},
   "outputs": [
    {
     "name": "stdout",
     "output_type": "stream",
     "text": [
      "<class 'pandas.core.frame.DataFrame'>\n",
      "MultiIndex: 2919 entries, (train, 0) to (test, 1458)\n",
      "Data columns (total 79 columns):\n",
      "MSSubClass       2919 non-null int64\n",
      "MSZoning         2915 non-null object\n",
      "LotFrontage      2433 non-null float64\n",
      "LotArea          2919 non-null int64\n",
      "Street           2919 non-null object\n",
      "Alley            198 non-null object\n",
      "LotShape         2919 non-null object\n",
      "LandContour      2919 non-null object\n",
      "Utilities        2917 non-null object\n",
      "LotConfig        2919 non-null object\n",
      "LandSlope        2919 non-null object\n",
      "Neighborhood     2919 non-null object\n",
      "Condition1       2919 non-null object\n",
      "Condition2       2919 non-null object\n",
      "BldgType         2919 non-null object\n",
      "HouseStyle       2919 non-null object\n",
      "OverallQual      2919 non-null int64\n",
      "OverallCond      2919 non-null int64\n",
      "YearBuilt        2919 non-null int64\n",
      "YearRemodAdd     2919 non-null int64\n",
      "RoofStyle        2919 non-null object\n",
      "RoofMatl         2919 non-null object\n",
      "Exterior1st      2918 non-null object\n",
      "Exterior2nd      2918 non-null object\n",
      "MasVnrType       2895 non-null object\n",
      "MasVnrArea       2896 non-null float64\n",
      "ExterQual        2919 non-null object\n",
      "ExterCond        2919 non-null object\n",
      "Foundation       2919 non-null object\n",
      "BsmtQual         2838 non-null object\n",
      "BsmtCond         2837 non-null object\n",
      "BsmtExposure     2837 non-null object\n",
      "BsmtFinType1     2840 non-null object\n",
      "BsmtFinSF1       2918 non-null float64\n",
      "BsmtFinType2     2839 non-null object\n",
      "BsmtFinSF2       2918 non-null float64\n",
      "BsmtUnfSF        2918 non-null float64\n",
      "TotalBsmtSF      2918 non-null float64\n",
      "Heating          2919 non-null object\n",
      "HeatingQC        2919 non-null object\n",
      "CentralAir       2919 non-null object\n",
      "Electrical       2918 non-null object\n",
      "1stFlrSF         2919 non-null int64\n",
      "2ndFlrSF         2919 non-null int64\n",
      "LowQualFinSF     2919 non-null int64\n",
      "GrLivArea        2919 non-null int64\n",
      "BsmtFullBath     2917 non-null float64\n",
      "BsmtHalfBath     2917 non-null float64\n",
      "FullBath         2919 non-null int64\n",
      "HalfBath         2919 non-null int64\n",
      "BedroomAbvGr     2919 non-null int64\n",
      "KitchenAbvGr     2919 non-null int64\n",
      "KitchenQual      2918 non-null object\n",
      "TotRmsAbvGrd     2919 non-null int64\n",
      "Functional       2917 non-null object\n",
      "Fireplaces       2919 non-null int64\n",
      "FireplaceQu      1499 non-null object\n",
      "GarageType       2762 non-null object\n",
      "GarageYrBlt      2760 non-null float64\n",
      "GarageFinish     2760 non-null object\n",
      "GarageCars       2918 non-null float64\n",
      "GarageArea       2918 non-null float64\n",
      "GarageQual       2760 non-null object\n",
      "GarageCond       2760 non-null object\n",
      "PavedDrive       2919 non-null object\n",
      "WoodDeckSF       2919 non-null int64\n",
      "OpenPorchSF      2919 non-null int64\n",
      "EnclosedPorch    2919 non-null int64\n",
      "3SsnPorch        2919 non-null int64\n",
      "ScreenPorch      2919 non-null int64\n",
      "PoolArea         2919 non-null int64\n",
      "PoolQC           10 non-null object\n",
      "Fence            571 non-null object\n",
      "MiscFeature      105 non-null object\n",
      "MiscVal          2919 non-null int64\n",
      "MoSold           2919 non-null int64\n",
      "YrSold           2919 non-null int64\n",
      "SaleType         2918 non-null object\n",
      "SaleCondition    2919 non-null object\n",
      "dtypes: float64(11), int64(25), object(43)\n",
      "memory usage: 1.8+ MB\n"
     ]
    }
   ],
   "source": [
    "# Todos los datos.\n",
    "data.info()"
   ]
  },
  {
   "cell_type": "code",
   "execution_count": 55,
   "metadata": {},
   "outputs": [
    {
     "name": "stdout",
     "output_type": "stream",
     "text": [
      "<class 'pandas.core.frame.DataFrame'>\n",
      "RangeIndex: 1459 entries, 0 to 1458\n",
      "Data columns (total 80 columns):\n",
      "Id               1459 non-null int64\n",
      "MSSubClass       1459 non-null int64\n",
      "MSZoning         1455 non-null object\n",
      "LotFrontage      1232 non-null float64\n",
      "LotArea          1459 non-null int64\n",
      "Street           1459 non-null object\n",
      "Alley            107 non-null object\n",
      "LotShape         1459 non-null object\n",
      "LandContour      1459 non-null object\n",
      "Utilities        1457 non-null object\n",
      "LotConfig        1459 non-null object\n",
      "LandSlope        1459 non-null object\n",
      "Neighborhood     1459 non-null object\n",
      "Condition1       1459 non-null object\n",
      "Condition2       1459 non-null object\n",
      "BldgType         1459 non-null object\n",
      "HouseStyle       1459 non-null object\n",
      "OverallQual      1459 non-null int64\n",
      "OverallCond      1459 non-null int64\n",
      "YearBuilt        1459 non-null int64\n",
      "YearRemodAdd     1459 non-null int64\n",
      "RoofStyle        1459 non-null object\n",
      "RoofMatl         1459 non-null object\n",
      "Exterior1st      1458 non-null object\n",
      "Exterior2nd      1458 non-null object\n",
      "MasVnrType       1443 non-null object\n",
      "MasVnrArea       1444 non-null float64\n",
      "ExterQual        1459 non-null object\n",
      "ExterCond        1459 non-null object\n",
      "Foundation       1459 non-null object\n",
      "BsmtQual         1415 non-null object\n",
      "BsmtCond         1414 non-null object\n",
      "BsmtExposure     1415 non-null object\n",
      "BsmtFinType1     1417 non-null object\n",
      "BsmtFinSF1       1458 non-null float64\n",
      "BsmtFinType2     1417 non-null object\n",
      "BsmtFinSF2       1458 non-null float64\n",
      "BsmtUnfSF        1458 non-null float64\n",
      "TotalBsmtSF      1458 non-null float64\n",
      "Heating          1459 non-null object\n",
      "HeatingQC        1459 non-null object\n",
      "CentralAir       1459 non-null object\n",
      "Electrical       1459 non-null object\n",
      "1stFlrSF         1459 non-null int64\n",
      "2ndFlrSF         1459 non-null int64\n",
      "LowQualFinSF     1459 non-null int64\n",
      "GrLivArea        1459 non-null int64\n",
      "BsmtFullBath     1457 non-null float64\n",
      "BsmtHalfBath     1457 non-null float64\n",
      "FullBath         1459 non-null int64\n",
      "HalfBath         1459 non-null int64\n",
      "BedroomAbvGr     1459 non-null int64\n",
      "KitchenAbvGr     1459 non-null int64\n",
      "KitchenQual      1458 non-null object\n",
      "TotRmsAbvGrd     1459 non-null int64\n",
      "Functional       1457 non-null object\n",
      "Fireplaces       1459 non-null int64\n",
      "FireplaceQu      729 non-null object\n",
      "GarageType       1383 non-null object\n",
      "GarageYrBlt      1381 non-null float64\n",
      "GarageFinish     1381 non-null object\n",
      "GarageCars       1458 non-null float64\n",
      "GarageArea       1458 non-null float64\n",
      "GarageQual       1381 non-null object\n",
      "GarageCond       1381 non-null object\n",
      "PavedDrive       1459 non-null object\n",
      "WoodDeckSF       1459 non-null int64\n",
      "OpenPorchSF      1459 non-null int64\n",
      "EnclosedPorch    1459 non-null int64\n",
      "3SsnPorch        1459 non-null int64\n",
      "ScreenPorch      1459 non-null int64\n",
      "PoolArea         1459 non-null int64\n",
      "PoolQC           3 non-null object\n",
      "Fence            290 non-null object\n",
      "MiscFeature      51 non-null object\n",
      "MiscVal          1459 non-null int64\n",
      "MoSold           1459 non-null int64\n",
      "YrSold           1459 non-null int64\n",
      "SaleType         1458 non-null object\n",
      "SaleCondition    1459 non-null object\n",
      "dtypes: float64(11), int64(26), object(43)\n",
      "memory usage: 912.0+ KB\n"
     ]
    }
   ],
   "source": [
    "# Conjunto de testing.\n",
    "testing.info()"
   ]
  },
  {
   "cell_type": "markdown",
   "metadata": {},
   "source": [
    "Esta función nos muestra los tipos de datos (enteros, reales, nominales, etc.) y también la cantidad de elementos que tiene el conjunto, así como también cuantos elementos tiene cada atributo.\n",
    "\n",
    "Como resultado podemos ver que se tienen:\n",
    "\n",
    "- Enteros $\\rightarrow$ 35\n",
    "- Reales $\\rightarrow$ 3\n",
    "- Nominales $\\rightarrow$ 43"
   ]
  },
  {
   "cell_type": "markdown",
   "metadata": {},
   "source": [
    "Podemos visualizar las estadísticas de los datos con la funcionalidad ```pd.dataframe.describe()``` de Pandas."
   ]
  },
  {
   "cell_type": "code",
   "execution_count": 56,
   "metadata": {},
   "outputs": [
    {
     "data": {
      "text/html": [
       "<div>\n",
       "<style scoped>\n",
       "    .dataframe tbody tr th:only-of-type {\n",
       "        vertical-align: middle;\n",
       "    }\n",
       "\n",
       "    .dataframe tbody tr th {\n",
       "        vertical-align: top;\n",
       "    }\n",
       "\n",
       "    .dataframe thead th {\n",
       "        text-align: right;\n",
       "    }\n",
       "</style>\n",
       "<table border=\"1\" class=\"dataframe\">\n",
       "  <thead>\n",
       "    <tr style=\"text-align: right;\">\n",
       "      <th></th>\n",
       "      <th>Id</th>\n",
       "      <th>MSSubClass</th>\n",
       "      <th>LotFrontage</th>\n",
       "      <th>LotArea</th>\n",
       "      <th>OverallQual</th>\n",
       "      <th>OverallCond</th>\n",
       "      <th>YearBuilt</th>\n",
       "      <th>YearRemodAdd</th>\n",
       "      <th>MasVnrArea</th>\n",
       "      <th>BsmtFinSF1</th>\n",
       "      <th>...</th>\n",
       "      <th>WoodDeckSF</th>\n",
       "      <th>OpenPorchSF</th>\n",
       "      <th>EnclosedPorch</th>\n",
       "      <th>3SsnPorch</th>\n",
       "      <th>ScreenPorch</th>\n",
       "      <th>PoolArea</th>\n",
       "      <th>MiscVal</th>\n",
       "      <th>MoSold</th>\n",
       "      <th>YrSold</th>\n",
       "      <th>SalePrice</th>\n",
       "    </tr>\n",
       "  </thead>\n",
       "  <tbody>\n",
       "    <tr>\n",
       "      <th>count</th>\n",
       "      <td>1460.000000</td>\n",
       "      <td>1460.000000</td>\n",
       "      <td>1201.000000</td>\n",
       "      <td>1460.000000</td>\n",
       "      <td>1460.000000</td>\n",
       "      <td>1460.000000</td>\n",
       "      <td>1460.000000</td>\n",
       "      <td>1460.000000</td>\n",
       "      <td>1452.000000</td>\n",
       "      <td>1460.000000</td>\n",
       "      <td>...</td>\n",
       "      <td>1460.000000</td>\n",
       "      <td>1460.000000</td>\n",
       "      <td>1460.000000</td>\n",
       "      <td>1460.000000</td>\n",
       "      <td>1460.000000</td>\n",
       "      <td>1460.000000</td>\n",
       "      <td>1460.000000</td>\n",
       "      <td>1460.000000</td>\n",
       "      <td>1460.000000</td>\n",
       "      <td>1460.000000</td>\n",
       "    </tr>\n",
       "    <tr>\n",
       "      <th>mean</th>\n",
       "      <td>730.500000</td>\n",
       "      <td>56.897260</td>\n",
       "      <td>70.049958</td>\n",
       "      <td>10516.828082</td>\n",
       "      <td>6.099315</td>\n",
       "      <td>5.575342</td>\n",
       "      <td>1971.267808</td>\n",
       "      <td>1984.865753</td>\n",
       "      <td>103.685262</td>\n",
       "      <td>443.639726</td>\n",
       "      <td>...</td>\n",
       "      <td>94.244521</td>\n",
       "      <td>46.660274</td>\n",
       "      <td>21.954110</td>\n",
       "      <td>3.409589</td>\n",
       "      <td>15.060959</td>\n",
       "      <td>2.758904</td>\n",
       "      <td>43.489041</td>\n",
       "      <td>6.321918</td>\n",
       "      <td>2007.815753</td>\n",
       "      <td>180921.195890</td>\n",
       "    </tr>\n",
       "    <tr>\n",
       "      <th>std</th>\n",
       "      <td>421.610009</td>\n",
       "      <td>42.300571</td>\n",
       "      <td>24.284752</td>\n",
       "      <td>9981.264932</td>\n",
       "      <td>1.382997</td>\n",
       "      <td>1.112799</td>\n",
       "      <td>30.202904</td>\n",
       "      <td>20.645407</td>\n",
       "      <td>181.066207</td>\n",
       "      <td>456.098091</td>\n",
       "      <td>...</td>\n",
       "      <td>125.338794</td>\n",
       "      <td>66.256028</td>\n",
       "      <td>61.119149</td>\n",
       "      <td>29.317331</td>\n",
       "      <td>55.757415</td>\n",
       "      <td>40.177307</td>\n",
       "      <td>496.123024</td>\n",
       "      <td>2.703626</td>\n",
       "      <td>1.328095</td>\n",
       "      <td>79442.502883</td>\n",
       "    </tr>\n",
       "    <tr>\n",
       "      <th>min</th>\n",
       "      <td>1.000000</td>\n",
       "      <td>20.000000</td>\n",
       "      <td>21.000000</td>\n",
       "      <td>1300.000000</td>\n",
       "      <td>1.000000</td>\n",
       "      <td>1.000000</td>\n",
       "      <td>1872.000000</td>\n",
       "      <td>1950.000000</td>\n",
       "      <td>0.000000</td>\n",
       "      <td>0.000000</td>\n",
       "      <td>...</td>\n",
       "      <td>0.000000</td>\n",
       "      <td>0.000000</td>\n",
       "      <td>0.000000</td>\n",
       "      <td>0.000000</td>\n",
       "      <td>0.000000</td>\n",
       "      <td>0.000000</td>\n",
       "      <td>0.000000</td>\n",
       "      <td>1.000000</td>\n",
       "      <td>2006.000000</td>\n",
       "      <td>34900.000000</td>\n",
       "    </tr>\n",
       "    <tr>\n",
       "      <th>25%</th>\n",
       "      <td>365.750000</td>\n",
       "      <td>20.000000</td>\n",
       "      <td>59.000000</td>\n",
       "      <td>7553.500000</td>\n",
       "      <td>5.000000</td>\n",
       "      <td>5.000000</td>\n",
       "      <td>1954.000000</td>\n",
       "      <td>1967.000000</td>\n",
       "      <td>0.000000</td>\n",
       "      <td>0.000000</td>\n",
       "      <td>...</td>\n",
       "      <td>0.000000</td>\n",
       "      <td>0.000000</td>\n",
       "      <td>0.000000</td>\n",
       "      <td>0.000000</td>\n",
       "      <td>0.000000</td>\n",
       "      <td>0.000000</td>\n",
       "      <td>0.000000</td>\n",
       "      <td>5.000000</td>\n",
       "      <td>2007.000000</td>\n",
       "      <td>129975.000000</td>\n",
       "    </tr>\n",
       "    <tr>\n",
       "      <th>50%</th>\n",
       "      <td>730.500000</td>\n",
       "      <td>50.000000</td>\n",
       "      <td>69.000000</td>\n",
       "      <td>9478.500000</td>\n",
       "      <td>6.000000</td>\n",
       "      <td>5.000000</td>\n",
       "      <td>1973.000000</td>\n",
       "      <td>1994.000000</td>\n",
       "      <td>0.000000</td>\n",
       "      <td>383.500000</td>\n",
       "      <td>...</td>\n",
       "      <td>0.000000</td>\n",
       "      <td>25.000000</td>\n",
       "      <td>0.000000</td>\n",
       "      <td>0.000000</td>\n",
       "      <td>0.000000</td>\n",
       "      <td>0.000000</td>\n",
       "      <td>0.000000</td>\n",
       "      <td>6.000000</td>\n",
       "      <td>2008.000000</td>\n",
       "      <td>163000.000000</td>\n",
       "    </tr>\n",
       "    <tr>\n",
       "      <th>75%</th>\n",
       "      <td>1095.250000</td>\n",
       "      <td>70.000000</td>\n",
       "      <td>80.000000</td>\n",
       "      <td>11601.500000</td>\n",
       "      <td>7.000000</td>\n",
       "      <td>6.000000</td>\n",
       "      <td>2000.000000</td>\n",
       "      <td>2004.000000</td>\n",
       "      <td>166.000000</td>\n",
       "      <td>712.250000</td>\n",
       "      <td>...</td>\n",
       "      <td>168.000000</td>\n",
       "      <td>68.000000</td>\n",
       "      <td>0.000000</td>\n",
       "      <td>0.000000</td>\n",
       "      <td>0.000000</td>\n",
       "      <td>0.000000</td>\n",
       "      <td>0.000000</td>\n",
       "      <td>8.000000</td>\n",
       "      <td>2009.000000</td>\n",
       "      <td>214000.000000</td>\n",
       "    </tr>\n",
       "    <tr>\n",
       "      <th>max</th>\n",
       "      <td>1460.000000</td>\n",
       "      <td>190.000000</td>\n",
       "      <td>313.000000</td>\n",
       "      <td>215245.000000</td>\n",
       "      <td>10.000000</td>\n",
       "      <td>9.000000</td>\n",
       "      <td>2010.000000</td>\n",
       "      <td>2010.000000</td>\n",
       "      <td>1600.000000</td>\n",
       "      <td>5644.000000</td>\n",
       "      <td>...</td>\n",
       "      <td>857.000000</td>\n",
       "      <td>547.000000</td>\n",
       "      <td>552.000000</td>\n",
       "      <td>508.000000</td>\n",
       "      <td>480.000000</td>\n",
       "      <td>738.000000</td>\n",
       "      <td>15500.000000</td>\n",
       "      <td>12.000000</td>\n",
       "      <td>2010.000000</td>\n",
       "      <td>755000.000000</td>\n",
       "    </tr>\n",
       "  </tbody>\n",
       "</table>\n",
       "<p>8 rows × 38 columns</p>\n",
       "</div>"
      ],
      "text/plain": [
       "                Id   MSSubClass  LotFrontage        LotArea  OverallQual  \\\n",
       "count  1460.000000  1460.000000  1201.000000    1460.000000  1460.000000   \n",
       "mean    730.500000    56.897260    70.049958   10516.828082     6.099315   \n",
       "std     421.610009    42.300571    24.284752    9981.264932     1.382997   \n",
       "min       1.000000    20.000000    21.000000    1300.000000     1.000000   \n",
       "25%     365.750000    20.000000    59.000000    7553.500000     5.000000   \n",
       "50%     730.500000    50.000000    69.000000    9478.500000     6.000000   \n",
       "75%    1095.250000    70.000000    80.000000   11601.500000     7.000000   \n",
       "max    1460.000000   190.000000   313.000000  215245.000000    10.000000   \n",
       "\n",
       "       OverallCond    YearBuilt  YearRemodAdd   MasVnrArea   BsmtFinSF1  \\\n",
       "count  1460.000000  1460.000000   1460.000000  1452.000000  1460.000000   \n",
       "mean      5.575342  1971.267808   1984.865753   103.685262   443.639726   \n",
       "std       1.112799    30.202904     20.645407   181.066207   456.098091   \n",
       "min       1.000000  1872.000000   1950.000000     0.000000     0.000000   \n",
       "25%       5.000000  1954.000000   1967.000000     0.000000     0.000000   \n",
       "50%       5.000000  1973.000000   1994.000000     0.000000   383.500000   \n",
       "75%       6.000000  2000.000000   2004.000000   166.000000   712.250000   \n",
       "max       9.000000  2010.000000   2010.000000  1600.000000  5644.000000   \n",
       "\n",
       "           ...         WoodDeckSF  OpenPorchSF  EnclosedPorch    3SsnPorch  \\\n",
       "count      ...        1460.000000  1460.000000    1460.000000  1460.000000   \n",
       "mean       ...          94.244521    46.660274      21.954110     3.409589   \n",
       "std        ...         125.338794    66.256028      61.119149    29.317331   \n",
       "min        ...           0.000000     0.000000       0.000000     0.000000   \n",
       "25%        ...           0.000000     0.000000       0.000000     0.000000   \n",
       "50%        ...           0.000000    25.000000       0.000000     0.000000   \n",
       "75%        ...         168.000000    68.000000       0.000000     0.000000   \n",
       "max        ...         857.000000   547.000000     552.000000   508.000000   \n",
       "\n",
       "       ScreenPorch     PoolArea       MiscVal       MoSold       YrSold  \\\n",
       "count  1460.000000  1460.000000   1460.000000  1460.000000  1460.000000   \n",
       "mean     15.060959     2.758904     43.489041     6.321918  2007.815753   \n",
       "std      55.757415    40.177307    496.123024     2.703626     1.328095   \n",
       "min       0.000000     0.000000      0.000000     1.000000  2006.000000   \n",
       "25%       0.000000     0.000000      0.000000     5.000000  2007.000000   \n",
       "50%       0.000000     0.000000      0.000000     6.000000  2008.000000   \n",
       "75%       0.000000     0.000000      0.000000     8.000000  2009.000000   \n",
       "max     480.000000   738.000000  15500.000000    12.000000  2010.000000   \n",
       "\n",
       "           SalePrice  \n",
       "count    1460.000000  \n",
       "mean   180921.195890  \n",
       "std     79442.502883  \n",
       "min     34900.000000  \n",
       "25%    129975.000000  \n",
       "50%    163000.000000  \n",
       "75%    214000.000000  \n",
       "max    755000.000000  \n",
       "\n",
       "[8 rows x 38 columns]"
      ]
     },
     "execution_count": 56,
     "metadata": {},
     "output_type": "execute_result"
    }
   ],
   "source": [
    "# Ver estadísticas simples de los datos de entrenamiento.\n",
    "training.describe()"
   ]
  },
  {
   "cell_type": "code",
   "execution_count": 57,
   "metadata": {},
   "outputs": [
    {
     "data": {
      "text/html": [
       "<div>\n",
       "<style scoped>\n",
       "    .dataframe tbody tr th:only-of-type {\n",
       "        vertical-align: middle;\n",
       "    }\n",
       "\n",
       "    .dataframe tbody tr th {\n",
       "        vertical-align: top;\n",
       "    }\n",
       "\n",
       "    .dataframe thead th {\n",
       "        text-align: right;\n",
       "    }\n",
       "</style>\n",
       "<table border=\"1\" class=\"dataframe\">\n",
       "  <thead>\n",
       "    <tr style=\"text-align: right;\">\n",
       "      <th></th>\n",
       "      <th>Id</th>\n",
       "      <th>MSSubClass</th>\n",
       "      <th>LotFrontage</th>\n",
       "      <th>LotArea</th>\n",
       "      <th>OverallQual</th>\n",
       "      <th>OverallCond</th>\n",
       "      <th>YearBuilt</th>\n",
       "      <th>YearRemodAdd</th>\n",
       "      <th>MasVnrArea</th>\n",
       "      <th>BsmtFinSF1</th>\n",
       "      <th>...</th>\n",
       "      <th>GarageArea</th>\n",
       "      <th>WoodDeckSF</th>\n",
       "      <th>OpenPorchSF</th>\n",
       "      <th>EnclosedPorch</th>\n",
       "      <th>3SsnPorch</th>\n",
       "      <th>ScreenPorch</th>\n",
       "      <th>PoolArea</th>\n",
       "      <th>MiscVal</th>\n",
       "      <th>MoSold</th>\n",
       "      <th>YrSold</th>\n",
       "    </tr>\n",
       "  </thead>\n",
       "  <tbody>\n",
       "    <tr>\n",
       "      <th>count</th>\n",
       "      <td>1459.000000</td>\n",
       "      <td>1459.000000</td>\n",
       "      <td>1232.000000</td>\n",
       "      <td>1459.000000</td>\n",
       "      <td>1459.000000</td>\n",
       "      <td>1459.000000</td>\n",
       "      <td>1459.000000</td>\n",
       "      <td>1459.000000</td>\n",
       "      <td>1444.000000</td>\n",
       "      <td>1458.000000</td>\n",
       "      <td>...</td>\n",
       "      <td>1458.000000</td>\n",
       "      <td>1459.000000</td>\n",
       "      <td>1459.000000</td>\n",
       "      <td>1459.000000</td>\n",
       "      <td>1459.000000</td>\n",
       "      <td>1459.000000</td>\n",
       "      <td>1459.000000</td>\n",
       "      <td>1459.000000</td>\n",
       "      <td>1459.000000</td>\n",
       "      <td>1459.000000</td>\n",
       "    </tr>\n",
       "    <tr>\n",
       "      <th>mean</th>\n",
       "      <td>2190.000000</td>\n",
       "      <td>57.378341</td>\n",
       "      <td>68.580357</td>\n",
       "      <td>9819.161069</td>\n",
       "      <td>6.078821</td>\n",
       "      <td>5.553804</td>\n",
       "      <td>1971.357779</td>\n",
       "      <td>1983.662783</td>\n",
       "      <td>100.709141</td>\n",
       "      <td>439.203704</td>\n",
       "      <td>...</td>\n",
       "      <td>472.768861</td>\n",
       "      <td>93.174777</td>\n",
       "      <td>48.313914</td>\n",
       "      <td>24.243317</td>\n",
       "      <td>1.794380</td>\n",
       "      <td>17.064428</td>\n",
       "      <td>1.744345</td>\n",
       "      <td>58.167923</td>\n",
       "      <td>6.104181</td>\n",
       "      <td>2007.769705</td>\n",
       "    </tr>\n",
       "    <tr>\n",
       "      <th>std</th>\n",
       "      <td>421.321334</td>\n",
       "      <td>42.746880</td>\n",
       "      <td>22.376841</td>\n",
       "      <td>4955.517327</td>\n",
       "      <td>1.436812</td>\n",
       "      <td>1.113740</td>\n",
       "      <td>30.390071</td>\n",
       "      <td>21.130467</td>\n",
       "      <td>177.625900</td>\n",
       "      <td>455.268042</td>\n",
       "      <td>...</td>\n",
       "      <td>217.048611</td>\n",
       "      <td>127.744882</td>\n",
       "      <td>68.883364</td>\n",
       "      <td>67.227765</td>\n",
       "      <td>20.207842</td>\n",
       "      <td>56.609763</td>\n",
       "      <td>30.491646</td>\n",
       "      <td>630.806978</td>\n",
       "      <td>2.722432</td>\n",
       "      <td>1.301740</td>\n",
       "    </tr>\n",
       "    <tr>\n",
       "      <th>min</th>\n",
       "      <td>1461.000000</td>\n",
       "      <td>20.000000</td>\n",
       "      <td>21.000000</td>\n",
       "      <td>1470.000000</td>\n",
       "      <td>1.000000</td>\n",
       "      <td>1.000000</td>\n",
       "      <td>1879.000000</td>\n",
       "      <td>1950.000000</td>\n",
       "      <td>0.000000</td>\n",
       "      <td>0.000000</td>\n",
       "      <td>...</td>\n",
       "      <td>0.000000</td>\n",
       "      <td>0.000000</td>\n",
       "      <td>0.000000</td>\n",
       "      <td>0.000000</td>\n",
       "      <td>0.000000</td>\n",
       "      <td>0.000000</td>\n",
       "      <td>0.000000</td>\n",
       "      <td>0.000000</td>\n",
       "      <td>1.000000</td>\n",
       "      <td>2006.000000</td>\n",
       "    </tr>\n",
       "    <tr>\n",
       "      <th>25%</th>\n",
       "      <td>1825.500000</td>\n",
       "      <td>20.000000</td>\n",
       "      <td>58.000000</td>\n",
       "      <td>7391.000000</td>\n",
       "      <td>5.000000</td>\n",
       "      <td>5.000000</td>\n",
       "      <td>1953.000000</td>\n",
       "      <td>1963.000000</td>\n",
       "      <td>0.000000</td>\n",
       "      <td>0.000000</td>\n",
       "      <td>...</td>\n",
       "      <td>318.000000</td>\n",
       "      <td>0.000000</td>\n",
       "      <td>0.000000</td>\n",
       "      <td>0.000000</td>\n",
       "      <td>0.000000</td>\n",
       "      <td>0.000000</td>\n",
       "      <td>0.000000</td>\n",
       "      <td>0.000000</td>\n",
       "      <td>4.000000</td>\n",
       "      <td>2007.000000</td>\n",
       "    </tr>\n",
       "    <tr>\n",
       "      <th>50%</th>\n",
       "      <td>2190.000000</td>\n",
       "      <td>50.000000</td>\n",
       "      <td>67.000000</td>\n",
       "      <td>9399.000000</td>\n",
       "      <td>6.000000</td>\n",
       "      <td>5.000000</td>\n",
       "      <td>1973.000000</td>\n",
       "      <td>1992.000000</td>\n",
       "      <td>0.000000</td>\n",
       "      <td>350.500000</td>\n",
       "      <td>...</td>\n",
       "      <td>480.000000</td>\n",
       "      <td>0.000000</td>\n",
       "      <td>28.000000</td>\n",
       "      <td>0.000000</td>\n",
       "      <td>0.000000</td>\n",
       "      <td>0.000000</td>\n",
       "      <td>0.000000</td>\n",
       "      <td>0.000000</td>\n",
       "      <td>6.000000</td>\n",
       "      <td>2008.000000</td>\n",
       "    </tr>\n",
       "    <tr>\n",
       "      <th>75%</th>\n",
       "      <td>2554.500000</td>\n",
       "      <td>70.000000</td>\n",
       "      <td>80.000000</td>\n",
       "      <td>11517.500000</td>\n",
       "      <td>7.000000</td>\n",
       "      <td>6.000000</td>\n",
       "      <td>2001.000000</td>\n",
       "      <td>2004.000000</td>\n",
       "      <td>164.000000</td>\n",
       "      <td>753.500000</td>\n",
       "      <td>...</td>\n",
       "      <td>576.000000</td>\n",
       "      <td>168.000000</td>\n",
       "      <td>72.000000</td>\n",
       "      <td>0.000000</td>\n",
       "      <td>0.000000</td>\n",
       "      <td>0.000000</td>\n",
       "      <td>0.000000</td>\n",
       "      <td>0.000000</td>\n",
       "      <td>8.000000</td>\n",
       "      <td>2009.000000</td>\n",
       "    </tr>\n",
       "    <tr>\n",
       "      <th>max</th>\n",
       "      <td>2919.000000</td>\n",
       "      <td>190.000000</td>\n",
       "      <td>200.000000</td>\n",
       "      <td>56600.000000</td>\n",
       "      <td>10.000000</td>\n",
       "      <td>9.000000</td>\n",
       "      <td>2010.000000</td>\n",
       "      <td>2010.000000</td>\n",
       "      <td>1290.000000</td>\n",
       "      <td>4010.000000</td>\n",
       "      <td>...</td>\n",
       "      <td>1488.000000</td>\n",
       "      <td>1424.000000</td>\n",
       "      <td>742.000000</td>\n",
       "      <td>1012.000000</td>\n",
       "      <td>360.000000</td>\n",
       "      <td>576.000000</td>\n",
       "      <td>800.000000</td>\n",
       "      <td>17000.000000</td>\n",
       "      <td>12.000000</td>\n",
       "      <td>2010.000000</td>\n",
       "    </tr>\n",
       "  </tbody>\n",
       "</table>\n",
       "<p>8 rows × 37 columns</p>\n",
       "</div>"
      ],
      "text/plain": [
       "                Id   MSSubClass  LotFrontage       LotArea  OverallQual  \\\n",
       "count  1459.000000  1459.000000  1232.000000   1459.000000  1459.000000   \n",
       "mean   2190.000000    57.378341    68.580357   9819.161069     6.078821   \n",
       "std     421.321334    42.746880    22.376841   4955.517327     1.436812   \n",
       "min    1461.000000    20.000000    21.000000   1470.000000     1.000000   \n",
       "25%    1825.500000    20.000000    58.000000   7391.000000     5.000000   \n",
       "50%    2190.000000    50.000000    67.000000   9399.000000     6.000000   \n",
       "75%    2554.500000    70.000000    80.000000  11517.500000     7.000000   \n",
       "max    2919.000000   190.000000   200.000000  56600.000000    10.000000   \n",
       "\n",
       "       OverallCond    YearBuilt  YearRemodAdd   MasVnrArea   BsmtFinSF1  \\\n",
       "count  1459.000000  1459.000000   1459.000000  1444.000000  1458.000000   \n",
       "mean      5.553804  1971.357779   1983.662783   100.709141   439.203704   \n",
       "std       1.113740    30.390071     21.130467   177.625900   455.268042   \n",
       "min       1.000000  1879.000000   1950.000000     0.000000     0.000000   \n",
       "25%       5.000000  1953.000000   1963.000000     0.000000     0.000000   \n",
       "50%       5.000000  1973.000000   1992.000000     0.000000   350.500000   \n",
       "75%       6.000000  2001.000000   2004.000000   164.000000   753.500000   \n",
       "max       9.000000  2010.000000   2010.000000  1290.000000  4010.000000   \n",
       "\n",
       "          ...        GarageArea   WoodDeckSF  OpenPorchSF  EnclosedPorch  \\\n",
       "count     ...       1458.000000  1459.000000  1459.000000    1459.000000   \n",
       "mean      ...        472.768861    93.174777    48.313914      24.243317   \n",
       "std       ...        217.048611   127.744882    68.883364      67.227765   \n",
       "min       ...          0.000000     0.000000     0.000000       0.000000   \n",
       "25%       ...        318.000000     0.000000     0.000000       0.000000   \n",
       "50%       ...        480.000000     0.000000    28.000000       0.000000   \n",
       "75%       ...        576.000000   168.000000    72.000000       0.000000   \n",
       "max       ...       1488.000000  1424.000000   742.000000    1012.000000   \n",
       "\n",
       "         3SsnPorch  ScreenPorch     PoolArea       MiscVal       MoSold  \\\n",
       "count  1459.000000  1459.000000  1459.000000   1459.000000  1459.000000   \n",
       "mean      1.794380    17.064428     1.744345     58.167923     6.104181   \n",
       "std      20.207842    56.609763    30.491646    630.806978     2.722432   \n",
       "min       0.000000     0.000000     0.000000      0.000000     1.000000   \n",
       "25%       0.000000     0.000000     0.000000      0.000000     4.000000   \n",
       "50%       0.000000     0.000000     0.000000      0.000000     6.000000   \n",
       "75%       0.000000     0.000000     0.000000      0.000000     8.000000   \n",
       "max     360.000000   576.000000   800.000000  17000.000000    12.000000   \n",
       "\n",
       "            YrSold  \n",
       "count  1459.000000  \n",
       "mean   2007.769705  \n",
       "std       1.301740  \n",
       "min    2006.000000  \n",
       "25%    2007.000000  \n",
       "50%    2008.000000  \n",
       "75%    2009.000000  \n",
       "max    2010.000000  \n",
       "\n",
       "[8 rows x 37 columns]"
      ]
     },
     "execution_count": 57,
     "metadata": {},
     "output_type": "execute_result"
    }
   ],
   "source": [
    "# Ver estadísticas simples de los datos de testing.\n",
    "testing.describe()"
   ]
  },
  {
   "cell_type": "markdown",
   "metadata": {},
   "source": [
    "Todo esto lo podemos hacer manualmente, o también podemos utilizar pandas-profiling para que realice un reporte automático."
   ]
  },
  {
   "cell_type": "markdown",
   "metadata": {},
   "source": [
    "Generar y mostrar resumen:\n",
    "\n",
    "```python\n",
    "pandas_profiling.ProfileReport(training)\n",
    "```"
   ]
  },
  {
   "cell_type": "markdown",
   "metadata": {},
   "source": [
    "<div style=\"text-align:center\"><img src=\"{filename}/images/prediccion-precios-iowa-1.png\" alt=\"drawing\" width=\"80%\" height=\"80%\"/></div><br/>"
   ]
  },
  {
   "cell_type": "markdown",
   "metadata": {},
   "source": [
    "<div style=\"text-align:center\"><img src=\"{filename}/images/prediccion-precios-iowa-2.png\" alt=\"drawing\" width=\"70%\" height=\"70%\"/></div><br/>"
   ]
  },
  {
   "cell_type": "markdown",
   "metadata": {},
   "source": [
    "### Tratamiento de los datos <a class=\"anchor\" id=\"3.4-bullet\"></a>\n",
    "\n",
    "En este punto se realizan las transformaciones de los datos que se adecuan a los modelos a utilizar."
   ]
  },
  {
   "cell_type": "markdown",
   "metadata": {},
   "source": [
    "#### Sanitizar los datos <a class=\"anchor\" id=\"3.4.1-bullet\"></a>\n",
    "\n",
    "La sanitización de los datos se utiliza ya que pueden haber instancias que estén mal, en relación al tipo de dato. Este análisis es más a nivel de negocio que de dato, ya que el negocio implica reglas que los datos deben cumplir."
   ]
  },
  {
   "cell_type": "markdown",
   "metadata": {},
   "source": [
    "Por ejemplo, estudiando los atributos, podemos ver que los años no deben ser superior al 2018. Por lo tanto, aquellos atributos que estén en años no deben tener un máximo mayor a 2018 en principio.\n",
    "\n",
    "Chequeamos que así sea obteniendo el máximo para cada atributo que sea considerado año dentro del conjunto. Estos son:\n",
    "\n",
    "- YearBuilt\n",
    "- YearRemodAdd\n",
    "- GarageYrBlt\n",
    "- YrSold"
   ]
  },
  {
   "cell_type": "code",
   "execution_count": 58,
   "metadata": {},
   "outputs": [
    {
     "data": {
      "text/plain": [
       "YearBuilt       2010.0\n",
       "YearRemodAdd    2010.0\n",
       "GarageYrBlt     2207.0\n",
       "YrSold          2010.0\n",
       "dtype: float64"
      ]
     },
     "execution_count": 58,
     "metadata": {},
     "output_type": "execute_result"
    }
   ],
   "source": [
    "# Obtener los atributos que son años.\n",
    "anios = ['YearBuilt', 'YearRemodAdd', 'GarageYrBlt', 'YrSold']\n",
    "\n",
    "# Imprimir los máximos.\n",
    "data[anios].max()"
   ]
  },
  {
   "cell_type": "code",
   "execution_count": 59,
   "metadata": {},
   "outputs": [
    {
     "data": {
      "text/html": [
       "<div>\n",
       "<style scoped>\n",
       "    .dataframe tbody tr th:only-of-type {\n",
       "        vertical-align: middle;\n",
       "    }\n",
       "\n",
       "    .dataframe tbody tr th {\n",
       "        vertical-align: top;\n",
       "    }\n",
       "\n",
       "    .dataframe thead th {\n",
       "        text-align: right;\n",
       "    }\n",
       "</style>\n",
       "<table border=\"1\" class=\"dataframe\">\n",
       "  <thead>\n",
       "    <tr style=\"text-align: right;\">\n",
       "      <th></th>\n",
       "      <th></th>\n",
       "      <th>YearBuilt</th>\n",
       "      <th>YearRemodAdd</th>\n",
       "      <th>GarageYrBlt</th>\n",
       "      <th>YrSold</th>\n",
       "    </tr>\n",
       "  </thead>\n",
       "  <tbody>\n",
       "    <tr>\n",
       "      <th>test</th>\n",
       "      <th>1132</th>\n",
       "      <td>2006</td>\n",
       "      <td>2007</td>\n",
       "      <td>2207.0</td>\n",
       "      <td>2007</td>\n",
       "    </tr>\n",
       "  </tbody>\n",
       "</table>\n",
       "</div>"
      ],
      "text/plain": [
       "           YearBuilt  YearRemodAdd  GarageYrBlt  YrSold\n",
       "test 1132       2006          2007       2207.0    2007"
      ]
     },
     "execution_count": 59,
     "metadata": {},
     "output_type": "execute_result"
    }
   ],
   "source": [
    "# Otra forma:\n",
    "# Generar condición.\n",
    "condicion = (data[anios] > 2018).any(axis=1)\n",
    "\n",
    "# Filtrar.\n",
    "data[condicion][anios]"
   ]
  },
  {
   "cell_type": "markdown",
   "metadata": {},
   "source": [
    "En el resultado anterior, podemos ver que hay una tupla que tiene el valor 2207 en *GarageYrBlt*. En este caso, debido al conocimiento del negocio, podemos imputar el valor del atributo *GarageYrBlt* con el del atributo *YearBuilt*."
   ]
  },
  {
   "cell_type": "code",
   "execution_count": 60,
   "metadata": {},
   "outputs": [
    {
     "data": {
      "text/html": [
       "<div>\n",
       "<style scoped>\n",
       "    .dataframe tbody tr th:only-of-type {\n",
       "        vertical-align: middle;\n",
       "    }\n",
       "\n",
       "    .dataframe tbody tr th {\n",
       "        vertical-align: top;\n",
       "    }\n",
       "\n",
       "    .dataframe thead th {\n",
       "        text-align: right;\n",
       "    }\n",
       "</style>\n",
       "<table border=\"1\" class=\"dataframe\">\n",
       "  <thead>\n",
       "    <tr style=\"text-align: right;\">\n",
       "      <th></th>\n",
       "      <th></th>\n",
       "      <th>YearBuilt</th>\n",
       "      <th>YearRemodAdd</th>\n",
       "      <th>GarageYrBlt</th>\n",
       "      <th>YrSold</th>\n",
       "    </tr>\n",
       "  </thead>\n",
       "  <tbody>\n",
       "    <tr>\n",
       "      <th>test</th>\n",
       "      <th>1132</th>\n",
       "      <td>2006</td>\n",
       "      <td>2007</td>\n",
       "      <td>2006.0</td>\n",
       "      <td>2007</td>\n",
       "    </tr>\n",
       "  </tbody>\n",
       "</table>\n",
       "</div>"
      ],
      "text/plain": [
       "           YearBuilt  YearRemodAdd  GarageYrBlt  YrSold\n",
       "test 1132       2006          2007       2006.0    2007"
      ]
     },
     "execution_count": 60,
     "metadata": {},
     "output_type": "execute_result"
    }
   ],
   "source": [
    "# Remplazamos el atributo.\n",
    "data.loc[condicion, 'GarageYrBlt'] = data[condicion]['YearBuilt']\n",
    "\n",
    "# Filtrar.\n",
    "data[condicion][anios]"
   ]
  },
  {
   "cell_type": "markdown",
   "metadata": {},
   "source": [
    "Otra regla de negocio importante, es que los precios, distancias y áreas deben ser positivos.\n",
    "\n",
    "Para esto primero obtenemos todos los atributos que son precios, distancias o áreas. Para esto necesitamos conocer del negocio para saber cuál de ellos son."
   ]
  },
  {
   "cell_type": "code",
   "execution_count": 61,
   "metadata": {},
   "outputs": [
    {
     "data": {
      "text/plain": [
       "LotFrontage        21.0\n",
       "LotArea          1300.0\n",
       "MasVnrArea          0.0\n",
       "BsmtFinSF1          0.0\n",
       "BsmtFinSF2          0.0\n",
       "BsmtUnfSF           0.0\n",
       "TotalBsmtSF         0.0\n",
       "1stFlrSF          334.0\n",
       "2ndFlrSF            0.0\n",
       "LowQualFinSF        0.0\n",
       "GrLivArea         334.0\n",
       "GarageArea          0.0\n",
       "WoodDeckSF          0.0\n",
       "OpenPorchSF         0.0\n",
       "EnclosedPorch       0.0\n",
       "3SsnPorch           0.0\n",
       "ScreenPorch         0.0\n",
       "PoolArea            0.0\n",
       "MiscVal             0.0\n",
       "dtype: float64"
      ]
     },
     "execution_count": 61,
     "metadata": {},
     "output_type": "execute_result"
    }
   ],
   "source": [
    "# Obtener los atributos que son precios, distancias o áreas.\n",
    "metrics = ['LotFrontage', 'LotArea', 'MasVnrArea', 'BsmtFinSF1', 'BsmtFinSF2', 'BsmtUnfSF', 'TotalBsmtSF',\n",
    "         '1stFlrSF', '2ndFlrSF', 'LowQualFinSF', 'GrLivArea', 'GarageArea', 'WoodDeckSF', \n",
    "         'OpenPorchSF', 'EnclosedPorch', '3SsnPorch', 'ScreenPorch', 'PoolArea', 'MiscVal']\n",
    "\n",
    "# Imprimir los mínimos.\n",
    "data[metrics].min()"
   ]
  },
  {
   "cell_type": "markdown",
   "metadata": {},
   "source": [
    "En este caso, vemos que tampoco hay ningún valor atípico. Pero en caso que hubiera habría que tomar una decisión, ya que no sabemos bien que dato hubiera que imputar."
   ]
  },
  {
   "cell_type": "markdown",
   "metadata": {},
   "source": [
    "La última regla de negocio que veremos aplica para los meses. Deben estar comprendidos entre 1 y 12. Atributos que sean de valores mensuales y tengan algún valor incorrecto hay que sanitizarlos. El único valor que tiene meses es \"MoSold\", por lo que simplemente filtramos este valor."
   ]
  },
  {
   "cell_type": "code",
   "execution_count": 62,
   "metadata": {},
   "outputs": [
    {
     "data": {
      "text/plain": [
       "0"
      ]
     },
     "execution_count": 62,
     "metadata": {},
     "output_type": "execute_result"
    }
   ],
   "source": [
    "# Generar condición.\n",
    "condicion = ((data['MoSold'] > 12) | (data['MoSold'] < 1))\n",
    "\n",
    "# Filtrar los datos.\n",
    "len(data[condicion])"
   ]
  },
  {
   "cell_type": "markdown",
   "metadata": {},
   "source": [
    "Nuevamente podemos ver que no hay ningún valor atípico. Esto nos permite continuar con el análisis."
   ]
  },
  {
   "cell_type": "markdown",
   "metadata": {},
   "source": [
    "En resumen, hemos sanitizado los datos bajos los siguientes criterios:\n",
    "\n",
    "- Que los años no sean mayores a 2018.\n",
    "- Que los valores de distancias, precio y área no tengan valores negativos.\n",
    "- Que los meses estén comprendidos entre 1 y 12.    "
   ]
  },
  {
   "cell_type": "markdown",
   "metadata": {},
   "source": [
    "#### Convertir a numerales <a class=\"anchor\" id=\"3.4.2-bullet\"></a>\n",
    "\n",
    "Los modelos de regresión lineal asumen que los datos no son categóricos, sino numéricos. Para esto debemos convertir los 64 atributos categóricos a numéricos."
   ]
  },
  {
   "cell_type": "code",
   "execution_count": 63,
   "metadata": {},
   "outputs": [
    {
     "name": "stdout",
     "output_type": "stream",
     "text": [
      "{'Ex': 9, 'Gd': 7, 'TA': 5, 'Fa': 3, 'Po': 2}\n"
     ]
    }
   ],
   "source": [
    "# Atributos numéricos.\n",
    "num_feats = ['LotFrontage', 'LotArea', 'OverallQual', 'OverallCond', \n",
    "             'YearBuilt', 'YearRemodAdd', 'MasVnrArea', 'ExterQual', 'ExterCond', \n",
    "             'BsmtQual', 'BsmtCond', 'BsmtFinSF1', 'BsmtFinSF2', 'BsmtUnfSF', 'TotalBsmtSF', \n",
    "             'HeatingQC', '1stFlrSF', '2ndFlrSF', 'LowQualFinSF',\n",
    "             'GrLivArea', 'BsmtFullBath', 'BsmtHalfBath', 'FullBath', 'HalfBath',\n",
    "             'BedroomAbvGr', 'KitchenAbvGr', 'KitchenQual', 'TotRmsAbvGrd',\n",
    "             'Fireplaces', 'FireplaceQu', 'GarageYrBlt',\n",
    "             'GarageCars', 'GarageArea', 'GarageQual', 'GarageCond',\n",
    "             'WoodDeckSF', 'OpenPorchSF', 'EnclosedPorch', '3SsnPorch',\n",
    "             'ScreenPorch', 'PoolArea', 'PoolQC', 'MiscVal',\n",
    "             'YrSold']\n",
    "\n",
    "# Atributos categóricos pero con valores ordenados (ej.: regular, bueno, muy bueno, sobresaliente).\n",
    "grades = ['OverallQual', 'OverallCond', 'ExterQual', 'ExterCond', 'BsmtQual', 'BsmtCond',\n",
    "          'HeatingQC', 'KitchenQual', 'FireplaceQu', 'GarageQual', 'GarageCond', 'PoolQC']\n",
    "\n",
    "# Remplazamos los valores por números con igual orden.\n",
    "literal = ['Ex', 'Gd', 'TA', 'Fa', 'Po']\n",
    "num = [9, 7, 5, 3, 2]\n",
    "G = dict(zip(literal, num))\n",
    "\n",
    "# Como sería el remplazo.\n",
    "print(G)"
   ]
  },
  {
   "cell_type": "code",
   "execution_count": 64,
   "metadata": {},
   "outputs": [
    {
     "data": {
      "text/html": [
       "<div>\n",
       "<style scoped>\n",
       "    .dataframe tbody tr th:only-of-type {\n",
       "        vertical-align: middle;\n",
       "    }\n",
       "\n",
       "    .dataframe tbody tr th {\n",
       "        vertical-align: top;\n",
       "    }\n",
       "\n",
       "    .dataframe thead th {\n",
       "        text-align: right;\n",
       "    }\n",
       "</style>\n",
       "<table border=\"1\" class=\"dataframe\">\n",
       "  <thead>\n",
       "    <tr style=\"text-align: right;\">\n",
       "      <th></th>\n",
       "      <th></th>\n",
       "      <th>OverallQual</th>\n",
       "      <th>OverallCond</th>\n",
       "      <th>ExterQual</th>\n",
       "      <th>ExterCond</th>\n",
       "      <th>BsmtQual</th>\n",
       "      <th>BsmtCond</th>\n",
       "      <th>HeatingQC</th>\n",
       "      <th>KitchenQual</th>\n",
       "      <th>FireplaceQu</th>\n",
       "      <th>GarageQual</th>\n",
       "      <th>GarageCond</th>\n",
       "      <th>PoolQC</th>\n",
       "    </tr>\n",
       "  </thead>\n",
       "  <tbody>\n",
       "    <tr>\n",
       "      <th rowspan=\"5\" valign=\"top\">train</th>\n",
       "      <th>0</th>\n",
       "      <td>7</td>\n",
       "      <td>5</td>\n",
       "      <td>7</td>\n",
       "      <td>5</td>\n",
       "      <td>7.0</td>\n",
       "      <td>5.0</td>\n",
       "      <td>9</td>\n",
       "      <td>7.0</td>\n",
       "      <td>NaN</td>\n",
       "      <td>5.0</td>\n",
       "      <td>5.0</td>\n",
       "      <td>NaN</td>\n",
       "    </tr>\n",
       "    <tr>\n",
       "      <th>1</th>\n",
       "      <td>6</td>\n",
       "      <td>8</td>\n",
       "      <td>5</td>\n",
       "      <td>5</td>\n",
       "      <td>7.0</td>\n",
       "      <td>5.0</td>\n",
       "      <td>9</td>\n",
       "      <td>5.0</td>\n",
       "      <td>5.0</td>\n",
       "      <td>5.0</td>\n",
       "      <td>5.0</td>\n",
       "      <td>NaN</td>\n",
       "    </tr>\n",
       "    <tr>\n",
       "      <th>2</th>\n",
       "      <td>7</td>\n",
       "      <td>5</td>\n",
       "      <td>7</td>\n",
       "      <td>5</td>\n",
       "      <td>7.0</td>\n",
       "      <td>5.0</td>\n",
       "      <td>9</td>\n",
       "      <td>7.0</td>\n",
       "      <td>5.0</td>\n",
       "      <td>5.0</td>\n",
       "      <td>5.0</td>\n",
       "      <td>NaN</td>\n",
       "    </tr>\n",
       "    <tr>\n",
       "      <th>3</th>\n",
       "      <td>7</td>\n",
       "      <td>5</td>\n",
       "      <td>5</td>\n",
       "      <td>5</td>\n",
       "      <td>5.0</td>\n",
       "      <td>7.0</td>\n",
       "      <td>7</td>\n",
       "      <td>7.0</td>\n",
       "      <td>7.0</td>\n",
       "      <td>5.0</td>\n",
       "      <td>5.0</td>\n",
       "      <td>NaN</td>\n",
       "    </tr>\n",
       "    <tr>\n",
       "      <th>4</th>\n",
       "      <td>8</td>\n",
       "      <td>5</td>\n",
       "      <td>7</td>\n",
       "      <td>5</td>\n",
       "      <td>7.0</td>\n",
       "      <td>5.0</td>\n",
       "      <td>9</td>\n",
       "      <td>7.0</td>\n",
       "      <td>5.0</td>\n",
       "      <td>5.0</td>\n",
       "      <td>5.0</td>\n",
       "      <td>NaN</td>\n",
       "    </tr>\n",
       "  </tbody>\n",
       "</table>\n",
       "</div>"
      ],
      "text/plain": [
       "         OverallQual  OverallCond  ExterQual  ExterCond  BsmtQual  BsmtCond  \\\n",
       "train 0            7            5          7          5       7.0       5.0   \n",
       "      1            6            8          5          5       7.0       5.0   \n",
       "      2            7            5          7          5       7.0       5.0   \n",
       "      3            7            5          5          5       5.0       7.0   \n",
       "      4            8            5          7          5       7.0       5.0   \n",
       "\n",
       "         HeatingQC  KitchenQual  FireplaceQu  GarageQual  GarageCond  PoolQC  \n",
       "train 0          9          7.0          NaN         5.0         5.0     NaN  \n",
       "      1          9          5.0          5.0         5.0         5.0     NaN  \n",
       "      2          9          7.0          5.0         5.0         5.0     NaN  \n",
       "      3          7          7.0          7.0         5.0         5.0     NaN  \n",
       "      4          9          7.0          5.0         5.0         5.0     NaN  "
      ]
     },
     "execution_count": 64,
     "metadata": {},
     "output_type": "execute_result"
    }
   ],
   "source": [
    "# Remplazamos.\n",
    "data[grades] = data[grades].replace(G)\n",
    "\n",
    "data[grades].head()"
   ]
  },
  {
   "cell_type": "code",
   "execution_count": 65,
   "metadata": {},
   "outputs": [
    {
     "name": "stdout",
     "output_type": "stream",
     "text": [
      "Index(['MSSubClass', 'MSZoning', 'Street', 'Alley', 'LotShape', 'LandContour',\n",
      "       'Utilities', 'LotConfig', 'LandSlope', 'Neighborhood', 'Condition1',\n",
      "       'Condition2', 'BldgType', 'HouseStyle', 'RoofStyle', 'RoofMatl',\n",
      "       'Exterior1st', 'Exterior2nd', 'MasVnrType', 'Foundation',\n",
      "       'BsmtExposure', 'BsmtFinType1', 'BsmtFinType2', 'Heating', 'CentralAir',\n",
      "       'Electrical', 'Functional', 'GarageType', 'GarageFinish', 'PavedDrive',\n",
      "       'Fence', 'MiscFeature', 'MoSold', 'SaleType', 'SaleCondition'],\n",
      "      dtype='object')\n"
     ]
    }
   ],
   "source": [
    "# Obtenemos los atributos categórico restantes.\n",
    "cat_feats = data.drop(num_feats, axis=1).columns\n",
    "\n",
    "print(cat_feats)"
   ]
  },
  {
   "cell_type": "markdown",
   "metadata": {},
   "source": [
    "#### Normalizar los datos <a class=\"anchor\" id=\"3.4.3-bullet\"></a>\n",
    "\n",
    "En esta etapa, normalizaremos los datos. Lo haremos en todos menos en los datos discretos para hacer los datos más leíbles.\n",
    "\n",
    "Transformaremos logarítmicamente la variable de salida para una mejor apreciación de la misma. Para esto utilizamos el método de la librería de Numpy: ```numpy.log1p()```.\n",
    "\n",
    "Para obtener los atributos sesgados, utilizaremos el método ```pandas.Series.skew()``` de pandas, el cual devuelve si dichos atributos están sesgados o no."
   ]
  },
  {
   "cell_type": "code",
   "execution_count": 66,
   "metadata": {},
   "outputs": [
    {
     "name": "stdout",
     "output_type": "stream",
     "text": [
      "LotFrontage       2.163569\n",
      "LotArea          12.207688\n",
      "MasVnrArea        2.669084\n",
      "BsmtFinSF1        1.685503\n",
      "BsmtFinSF2        4.255261\n",
      "BsmtUnfSF         0.920268\n",
      "TotalBsmtSF       1.524255\n",
      "1stFlrSF          1.376757\n",
      "2ndFlrSF          0.813030\n",
      "LowQualFinSF      9.011341\n",
      "GrLivArea         1.366560\n",
      "GarageArea        0.179981\n",
      "WoodDeckSF        1.541376\n",
      "OpenPorchSF       2.364342\n",
      "EnclosedPorch     3.089872\n",
      "3SsnPorch        10.304342\n",
      "ScreenPorch       4.122214\n",
      "PoolArea         14.828374\n",
      "MiscVal          24.476794\n",
      "dtype: float64\n",
      "Cantidad atributos sesgados: 19\n"
     ]
    }
   ],
   "source": [
    "# Transformamos logarítmicamente la variable a predecir.\n",
    "price = np.log1p(training['SalePrice'])\n",
    "\n",
    "# Obtenemos el sesgo de los atributos.\n",
    "skewed_feats = data.loc['train'][metrics].apply(lambda x: x.skew(skipna=True))\n",
    "\n",
    "print(skewed_feats)\n",
    "print('Cantidad atributos sesgados:', len(skewed_feats))"
   ]
  },
  {
   "cell_type": "code",
   "execution_count": 67,
   "metadata": {},
   "outputs": [
    {
     "data": {
      "text/plain": [
       "<matplotlib.axes._subplots.AxesSubplot at 0xbfe14d3c88>"
      ]
     },
     "execution_count": 67,
     "metadata": {},
     "output_type": "execute_result"
    },
    {
     "data": {
      "image/png": "[encoded data removed]",
      "text/plain": [
       "<Figure size 432x288 with 1 Axes>"
      ]
     },
     "metadata": {},
     "output_type": "display_data"
    }
   ],
   "source": [
    "# Graficamos para ver.\n",
    "sns.distplot(data.loc['train']['BsmtUnfSF'])"
   ]
  },
  {
   "cell_type": "code",
   "execution_count": 68,
   "metadata": {},
   "outputs": [
    {
     "data": {
      "text/plain": [
       "<matplotlib.axes._subplots.AxesSubplot at 0xbfbeb487b8>"
      ]
     },
     "execution_count": 68,
     "metadata": {},
     "output_type": "execute_result"
    },
    {
     "data": {
      "image/png": "[encoded data removed]",
      "text/plain": [
       "<Figure size 432x288 with 1 Axes>"
      ]
     },
     "metadata": {},
     "output_type": "display_data"
    }
   ],
   "source": [
    "# Graficamos para ver.\n",
    "sns.distplot(data.loc['train']['MiscVal'])"
   ]
  },
  {
   "cell_type": "markdown",
   "metadata": {},
   "source": [
    "Si los valores tienen un sesgo mayor a 0.75, entonces le aplicamos una transformación logarítmica."
   ]
  },
  {
   "cell_type": "code",
   "execution_count": 69,
   "metadata": {},
   "outputs": [
    {
     "name": "stdout",
     "output_type": "stream",
     "text": [
      "Cantidad atributos con sesgo mayor a 0.75: 18\n"
     ]
    }
   ],
   "source": [
    "# Obtengo los que tienen valores mayores a 0.75.\n",
    "skewed_feats = skewed_feats[skewed_feats > 0.75]\n",
    "\n",
    "print('Cantidad atributos con sesgo mayor a 0.75:', len(skewed_feats))"
   ]
  },
  {
   "cell_type": "code",
   "execution_count": 70,
   "metadata": {},
   "outputs": [
    {
     "data": {
      "text/plain": [
       "<matplotlib.axes._subplots.AxesSubplot at 0xbfbec27940>"
      ]
     },
     "execution_count": 70,
     "metadata": {},
     "output_type": "execute_result"
    },
    {
     "data": {
      "image/png": "[encoded data removed]",
      "text/plain": [
       "<Figure size 432x288 with 1 Axes>"
      ]
     },
     "metadata": {},
     "output_type": "display_data"
    }
   ],
   "source": [
    "# Obtengo el índice.\n",
    "skewed_feats = skewed_feats.index\n",
    "\n",
    "# Aplico el logaritmo a dichos atributos.\n",
    "data[skewed_feats] = np.log1p(data[skewed_feats])\n",
    "\n",
    "# Graficamos para ver.\n",
    "sns.distplot(data.loc['train']['MiscVal'])"
   ]
  },
  {
   "cell_type": "markdown",
   "metadata": {},
   "source": [
    "#### Manejo de atributos faltantes <a class=\"anchor\" id=\"3.4.4-bullet\"></a>\n",
    "\n",
    "En este problema hay dos tipos de atributos faltantes:\n",
    "- El que simplemente no se guardó.\n",
    "- El que simplemente ese atributo no tiene (por ejemplo, un sótano).\n",
    "\n",
    "Chequeamos los faltantes."
   ]
  },
  {
   "cell_type": "code",
   "execution_count": 71,
   "metadata": {},
   "outputs": [
    {
     "data": {
      "text/plain": [
       "MSZoning           4\n",
       "LotFrontage      486\n",
       "Alley           2721\n",
       "Utilities          2\n",
       "Exterior1st        1\n",
       "Exterior2nd        1\n",
       "MasVnrType        24\n",
       "MasVnrArea        23\n",
       "BsmtQual          81\n",
       "BsmtCond          82\n",
       "BsmtExposure      82\n",
       "BsmtFinType1      79\n",
       "BsmtFinSF1         1\n",
       "BsmtFinType2      80\n",
       "BsmtFinSF2         1\n",
       "BsmtUnfSF          1\n",
       "TotalBsmtSF        1\n",
       "Electrical         1\n",
       "BsmtFullBath       2\n",
       "BsmtHalfBath       2\n",
       "KitchenQual        1\n",
       "Functional         2\n",
       "FireplaceQu     1420\n",
       "GarageType       157\n",
       "GarageYrBlt      159\n",
       "GarageFinish     159\n",
       "GarageCars         1\n",
       "GarageArea         1\n",
       "GarageQual       159\n",
       "GarageCond       159\n",
       "PoolQC          2909\n",
       "Fence           2348\n",
       "MiscFeature     2814\n",
       "SaleType           1\n",
       "dtype: int64"
      ]
     },
     "execution_count": 71,
     "metadata": {},
     "output_type": "execute_result"
    }
   ],
   "source": [
    "# Atributos faltantes.\n",
    "data.isnull().sum()[data.isnull().sum() > 0]"
   ]
  },
  {
   "cell_type": "markdown",
   "metadata": {},
   "source": [
    "*MSZoning, Utilities, Exteriors, Electrical, Functional, Utilities and SaleType*\n",
    "\n",
    "Como en estos atributos no hay muchos faltantes, simplemente imputaremos el del vecindario."
   ]
  },
  {
   "cell_type": "code",
   "execution_count": 72,
   "metadata": {},
   "outputs": [],
   "source": [
    "# Seleccionamos los atributos.\n",
    "feats = ['MSZoning', 'Utilities', 'Exterior1st', 'Exterior2nd', 'Electrical', 'Functional',\n",
    "         'SaleType']\n",
    "\n",
    "# Creo el modelo para sustituir con los vecinos.\n",
    "model = data.loc['train'].groupby('Neighborhood')[feats].apply(lambda x: x.mode().iloc[0])\n",
    "\n",
    "# Aplico la sustitución para cada atributo.\n",
    "for f in feats:\n",
    "    data[f].fillna(data['Neighborhood'].map(model[f]), inplace=True)"
   ]
  },
  {
   "cell_type": "markdown",
   "metadata": {},
   "source": [
    "*Lot frontage*"
   ]
  },
  {
   "cell_type": "code",
   "execution_count": 73,
   "metadata": {},
   "outputs": [
    {
     "data": {
      "text/plain": [
       "<matplotlib.axes._subplots.AxesSubplot at 0xbfbed1c358>"
      ]
     },
     "execution_count": 73,
     "metadata": {},
     "output_type": "execute_result"
    },
    {
     "data": {
      "image/png": "[encoded data removed]",
      "text/plain": [
       "<Figure size 1080x360 with 1 Axes>"
      ]
     },
     "metadata": {},
     "output_type": "display_data"
    }
   ],
   "source": [
    "# Graficamos.\n",
    "plt.subplots(figsize=(15,5))\n",
    "\n",
    "# Diagrama de caja.\n",
    "boxdata = data.loc['train'].groupby('LotConfig')['LotFrontage'].median().sort_values(ascending=False)\n",
    "order = boxdata.index\n",
    "\n",
    "# Imprimimos el diagrama.\n",
    "sns.boxplot(x='LotConfig', y='LotFrontage', order=order, data=data.loc['train'])"
   ]
  },
  {
   "cell_type": "markdown",
   "metadata": {},
   "source": [
    "En este caso simplemente sustituimos el valor por el valor medio."
   ]
  },
  {
   "cell_type": "code",
   "execution_count": 74,
   "metadata": {},
   "outputs": [],
   "source": [
    "data['LotFrontage'] = data['LotFrontage'].fillna(data.loc['train', 'LotFrontage'].median())"
   ]
  },
  {
   "cell_type": "markdown",
   "metadata": {},
   "source": [
    "*KitchenQual*\n",
    "\n",
    "Como son pocos faltantes, sustituimos dicho valor con el atributo *OverallQual*."
   ]
  },
  {
   "cell_type": "code",
   "execution_count": 75,
   "metadata": {},
   "outputs": [],
   "source": [
    "data['KitchenQual'].fillna(data['OverallQual'], inplace=True)"
   ]
  },
  {
   "cell_type": "markdown",
   "metadata": {},
   "source": [
    "*Otros atributos*\n",
    "\n",
    "Estos otros atributos podemos considerar que son faltantes porque la casa no los tiene, por lo que simplemente los sustituimos por 0."
   ]
  },
  {
   "cell_type": "code",
   "execution_count": 76,
   "metadata": {},
   "outputs": [],
   "source": [
    "# Sótanos.\n",
    "bsmt = ['BsmtQual', 'BsmtCond', 'BsmtExposure', 'BsmtFinType1', \n",
    "        'BsmtFinSF1', 'BsmtFinType2', 'BsmtFinSF2', 'BsmtUnfSF', 'BsmtFullBath',\n",
    "        'BsmtHalfBath', \n",
    "        'TotalBsmtSF']\n",
    "\n",
    "# Chimeneas.\n",
    "fire = ['Fireplaces', 'FireplaceQu']\n",
    "\n",
    "# Garajes.\n",
    "garage = ['GarageQual', 'GarageCond', 'GarageType', 'GarageFinish', 'GarageCars', \n",
    "          'GarageArea', 'GarageYrBlt']\n",
    "\n",
    "# Otros.\n",
    "masn = ['MasVnrType', 'MasVnrArea']\n",
    "others = ['Alley', 'Fence', 'PoolQC', 'MiscFeature']\n",
    "\n",
    "# Obtengo los atributos categóricos.\n",
    "cats = data.columns[data.dtypes == 'object']\n",
    "\n",
    "# Me quedo con los numéricos.\n",
    "nums = list(set(data.columns) - set(cats))\n",
    "\n",
    "# Manejo atributos del tipo 'None'.\n",
    "data['MasVnrType'].replace({'None': np.nan}, inplace=True)\n",
    "\n",
    "# Imputo los valores.\n",
    "data[cats] = data[cats].fillna('0')\n",
    "data[nums] = data[nums].fillna(0)"
   ]
  },
  {
   "cell_type": "markdown",
   "metadata": {},
   "source": [
    "Chequeo que no hayan atributos faltantes."
   ]
  },
  {
   "cell_type": "code",
   "execution_count": 77,
   "metadata": {},
   "outputs": [
    {
     "data": {
      "text/plain": [
       "0"
      ]
     },
     "execution_count": 77,
     "metadata": {},
     "output_type": "execute_result"
    }
   ],
   "source": [
    "data.isnull().sum().sum()"
   ]
  },
  {
   "cell_type": "markdown",
   "metadata": {},
   "source": [
    "*Ajustando el tipo de las variables*\n",
    "\n",
    "Hay algunos atributos que no son representados con el tipo correcto de variable:\n",
    "    - *MSSubClass*: Está representado como entero, cuando debe ser un atributo categórico.\n",
    "    - *MoSold*: Ídem caso anterior.\n",
    "    - *BsmtFullBath*, *BsmtHalfBath*: Representan enteros, y no reales.\n",
    "    - *anios*: Deben ser enteros.\n",
    "    - *GarageCars*: Deben ser enteros, no reales."
   ]
  },
  {
   "cell_type": "code",
   "execution_count": 78,
   "metadata": {},
   "outputs": [],
   "source": [
    "# Ajustamos los tipos de datos.\n",
    "data['MSSubClass'] = data['MSSubClass'].astype('object', copy=False)\n",
    "data['MoSold'] = data['MoSold'].astype('object', copy=False)\n",
    "data['BsmtFullBath'] = data['BsmtFullBath'].astype('int64', copy=False)\n",
    "data['BsmtHalfBath'] = data['BsmtHalfBath'].astype('int64', copy=False)\n",
    "data['GarageCars'] = data['GarageCars'].astype('int64', copy=False)\n",
    "data[anios] = data[anios].astype('int64', copy=False)"
   ]
  },
  {
   "cell_type": "markdown",
   "metadata": {},
   "source": [
    "#### Feature extraction <a class=\"anchor\" id=\"3.4.5-bullet\"></a>\n",
    "\n",
    "*Datos categóricos con muestras poco representativas*\n",
    "\n",
    "En este punto agrupamos aquellos atributos cuyas muestras son poco representativas en una sola categoría."
   ]
  },
  {
   "cell_type": "code",
   "execution_count": 79,
   "metadata": {},
   "outputs": [],
   "source": [
    "# Filtro los atributos categóricos.\n",
    "categorical_data = pd.concat((data.loc['train'][cat_feats], price), axis=1)"
   ]
  },
  {
   "cell_type": "code",
   "execution_count": 80,
   "metadata": {},
   "outputs": [],
   "source": [
    "# Al menos 5% del dataset debe tener este valor.\n",
    "low = 0.05 * data.loc['train'].shape[0]\n",
    "\n",
    "for feat in cat_feats:\n",
    "    # Agruparemos las categorías basándonos en la media de 'SalePrice'.\n",
    "    order = ((categorical_data.groupby(feat).mean()).sort_values(by='SalePrice', \n",
    "                                                      ascending=False).index.values.tolist())\n",
    "    for i in range(0, len(order)):\n",
    "        N = (categorical_data[categorical_data[feat] == order[i]]\n",
    "             .count().max())\n",
    "        j = i\n",
    "        while (N < low) & (N != 0):\n",
    "            j += 1\n",
    "\n",
    "            if (j > len(order) - 1):    \n",
    "                j = i - 1\n",
    "                break\n",
    "            else: \n",
    "                N += (categorical_data[categorical_data[feat] == order[j]]\n",
    "                      .count().max())\n",
    "        if j < i:\n",
    "            lim = len(order)\n",
    "        else:\n",
    "            lim = j\n",
    "\n",
    "        for k in range(i, lim):\n",
    "            categorical_data.replace({feat: {order[k]: order[j]}},\n",
    "                                 inplace=True)\n",
    "            data.replace({feat: {order[k]: order[j]}},\n",
    "                                     inplace=True)            \n",
    "    uniD = data[feat].unique()\n",
    "    order = categorical_data[feat].unique()\n",
    "\n",
    "    for i in uniD:\n",
    "        if i not in order:\n",
    "            ind = np.argsort(order - i)[0]\n",
    "            data.replace({feat: {i: order[ind]}}, inplace=True)"
   ]
  },
  {
   "cell_type": "code",
   "execution_count": 81,
   "metadata": {},
   "outputs": [
    {
     "name": "stdout",
     "output_type": "stream",
     "text": [
      "MSZoning: Index(['RM', 'RL'], dtype='object', name='MSZoning')\n",
      "Alley: Index(['Grvl', '0'], dtype='object', name='Alley')\n",
      "LotShape: Index(['Reg', 'IR1'], dtype='object', name='LotShape')\n",
      "LandContour: Index(['Lvl', 'Low'], dtype='object', name='LandContour')\n",
      "LandSlope: Index(['Gtl', 'Mod'], dtype='object', name='LandSlope')\n",
      "Condition1: Index(['Feedr', 'Norm'], dtype='object', name='Condition1')\n",
      "RoofStyle: Index(['Gable', 'Hip'], dtype='object', name='RoofStyle')\n",
      "BsmtFinType2: Index(['Rec', 'Unf'], dtype='object', name='BsmtFinType2')\n",
      "CentralAir: Index(['N', 'Y'], dtype='object', name='CentralAir')\n",
      "Electrical: Index(['FuseA', 'SBrkr'], dtype='object', name='Electrical')\n",
      "Functional: Index(['Min2', 'Typ'], dtype='object', name='Functional')\n",
      "PavedDrive: Index(['N', 'Y'], dtype='object', name='PavedDrive')\n",
      "Fence: Index(['MnPrv', '0'], dtype='object', name='Fence')\n",
      "SaleType: Index(['WD', 'New'], dtype='object', name='SaleType')\n"
     ]
    }
   ],
   "source": [
    "# Removemos los atributos con solo una categoría.\n",
    "for feat in categorical_data.columns[:-1]:    \n",
    "    uni = categorical_data.groupby(feat).mean().sort_values(by='SalePrice').index\n",
    "    if (len(uni) < 2):\n",
    "            data.drop(feat, axis=1, inplace=True)\n",
    "    elif len(uni) < 3:\n",
    "        print(\"{}: {}\".format(feat, uni))\n",
    "        data[feat].replace({uni[0]: 0, uni[1]: 1}, inplace=True)\n",
    "        data[feat] = data[feat].astype('int8')\n",
    "    else:\n",
    "        data[feat] = data[feat].astype('category')"
   ]
  },
  {
   "cell_type": "markdown",
   "metadata": {},
   "source": [
    "#### En-codeado numérico <a class=\"anchor\" id=\"3.4.6-bullet\"></a>"
   ]
  },
  {
   "cell_type": "markdown",
   "metadata": {},
   "source": [
    "Para transformar los atributos a numéricos, utilizamos el método get_dummies de pandas ```pandas.get_dummies()```."
   ]
  },
  {
   "cell_type": "code",
   "execution_count": 82,
   "metadata": {},
   "outputs": [],
   "source": [
    "finaldata = pd.get_dummies(data)"
   ]
  },
  {
   "cell_type": "code",
   "execution_count": 83,
   "metadata": {},
   "outputs": [],
   "source": [
    "black_list = bsmt + fire + garage + masn + others\n",
    "for feat in finaldata.columns:\n",
    "    if ('_0' in feat) and (feat.split(\"_\")[0] in black_list):\n",
    "        finaldata.drop(feat, axis=1, inplace=True)"
   ]
  },
  {
   "cell_type": "code",
   "execution_count": 84,
   "metadata": {},
   "outputs": [
    {
     "data": {
      "text/plain": [
       "(2919, 131)"
      ]
     },
     "execution_count": 84,
     "metadata": {},
     "output_type": "execute_result"
    }
   ],
   "source": [
    "finaldata.shape"
   ]
  },
  {
   "cell_type": "markdown",
   "metadata": {},
   "source": [
    "#### Estandarización <a class=\"anchor\" id=\"3.4.6-bullet\"></a>\n",
    "\n",
    "En este punto estandarizo los conjuntos, pero utilizando la media y la desviación estándar únicamente del conjunto de ENTRENAMIENTO para obtener un mejor resultado."
   ]
  },
  {
   "cell_type": "code",
   "execution_count": 85,
   "metadata": {},
   "outputs": [],
   "source": [
    "# Obtengo los conjuntos.\n",
    "X_test = finaldata.loc['test']\n",
    "X_train = finaldata.loc['train']\n",
    "\n",
    "y_train = price\n",
    "\n",
    "# Obtengo la media.\n",
    "m = X_train.mean()\n",
    "# Obtengo la desviación estándar.\n",
    "std = X_train.std()\n",
    "\n",
    "# Normalizo.\n",
    "X_train = (X_train - m) / std\n",
    "X_test = (X_test - m) / std"
   ]
  },
  {
   "cell_type": "markdown",
   "metadata": {},
   "source": [
    "## Modelado <a class=\"anchor\" id=\"4-bullet\"></a>\n",
    "---\n",
    "\n",
    "En esta sección probamos varios modelos de machine learning. Utilizamos la librería **sklearn**.\n",
    "\n",
    "Utilizaremos los siguientes modelos:\n",
    "- ```sklearn.linear_model.LinearRegression``` $\\Rightarrow$ http://scikit-learn.org/stable/modules/generated/sklearn.linear_model.LinearRegression.html\n",
    "- ```sklearn.linear_model.LassoCV``` $\\Rightarrow$ http://scikit-learn.org/stable/modules/generated/sklearn.linear_model.LassoCV.html"
   ]
  },
  {
   "cell_type": "code",
   "execution_count": 86,
   "metadata": {},
   "outputs": [],
   "source": [
    "# Modelos a utilizar:\n",
    "from sklearn.linear_model import LinearRegression\n",
    "from sklearn.linear_model import LassoCV"
   ]
  },
  {
   "cell_type": "markdown",
   "metadata": {},
   "source": [
    "Y para chequear la performance de nuestros modelos utilizamos:\n",
    "* ```sklearn.metrics.make_scorer``` $\\Rightarrow$ http://scikit-learn.org/stable/modules/generated/sklearn.metrics.make_scorer.html\n",
    "* ```sklearn.metrics.accuracy_score``` $\\Rightarrow$ http://scikit-learn.org/stable/modules/generated/sklearn.metrics.accuracy_score.html\n",
    "* ```sklearn.model_selection.cross_val_score``` $\\Rightarrow$ http://scikit-learn.org/stable/modules/generated/sklearn.model_selection.cross_val_score.html"
   ]
  },
  {
   "cell_type": "code",
   "execution_count": 87,
   "metadata": {},
   "outputs": [],
   "source": [
    "from sklearn.metrics import make_scorer, accuracy_score\n",
    "from sklearn.model_selection import cross_val_score"
   ]
  },
  {
   "cell_type": "markdown",
   "metadata": {},
   "source": [
    "Utilizaremos ```sklearn.model_selection.GridSearchCV``` (http://scikit-learn.org/stable/modules/generated/sklearn.model_selection.GridSearchCV.html) para la optimización del modelo."
   ]
  },
  {
   "cell_type": "code",
   "execution_count": 88,
   "metadata": {},
   "outputs": [],
   "source": [
    "from sklearn.model_selection import GridSearchCV"
   ]
  },
  {
   "cell_type": "markdown",
   "metadata": {},
   "source": [
    "### Preparación del modelado <a class=\"anchor\" id=\"4.1-bullet\"></a>\n",
    "\n",
    "Los atributos ya están definidos. Los que utilizaremos serán:"
   ]
  },
  {
   "cell_type": "code",
   "execution_count": 89,
   "metadata": {},
   "outputs": [
    {
     "name": "stdout",
     "output_type": "stream",
     "text": [
      "X_test: 1459\n",
      "X_train: 1460\n",
      "y_train: 1460\n"
     ]
    }
   ],
   "source": [
    "print('X_test:', len(X_test))\n",
    "print('X_train:', len(X_train))\n",
    "print('y_train:', len(y_train))"
   ]
  },
  {
   "cell_type": "markdown",
   "metadata": {},
   "source": [
    "### Entrenamiento de los modelos <a class=\"anchor\" id=\"4.2-bullet\"></a>\n",
    "\n",
    "En esta sección se entrenan los modelos especificados anteriormente para ver cuál es el que realiza la mejor predicción."
   ]
  },
  {
   "cell_type": "markdown",
   "metadata": {},
   "source": [
    "#### Linear Regression <a class=\"anchor\" id=\"4.2.1-bullet\"></a> "
   ]
  },
  {
   "cell_type": "code",
   "execution_count": 90,
   "metadata": {},
   "outputs": [
    {
     "name": "stdout",
     "output_type": "stream",
     "text": [
      "0.8927265958744985\n"
     ]
    }
   ],
   "source": [
    "# Cargamos el modelo.\n",
    "linreg_clf = LinearRegression()\n",
    "\n",
    "# Entrenamos el modelo.\n",
    "linreg_clf.fit(X_train, y_train)\n",
    "\n",
    "# Validación cruzada.\n",
    "acc_linreg = cross_val_score(linreg_clf, X_train, y_train, cv=10).mean()\n",
    "print(acc_linreg)"
   ]
  },
  {
   "cell_type": "markdown",
   "metadata": {},
   "source": [
    "*Mayores influenciadores*"
   ]
  },
  {
   "cell_type": "code",
   "execution_count": 91,
   "metadata": {},
   "outputs": [
    {
     "name": "stdout",
     "output_type": "stream",
     "text": [
      "SaleCondition_Normal..... -8.4824e+11\n",
      "SaleCondition_Abnorml.... -6.4458e+11\n",
      "SaleCondition_Partial.... -6.1849e+11\n",
      "MoSold_7................. -1.2466e+11\n",
      "Exterior1st_VinylSd...... -1.1940e+11\n"
     ]
    }
   ],
   "source": [
    "maxcoef = np.argsort(-np.abs(linreg_clf.coef_))\n",
    "coef = linreg_clf.coef_[maxcoef]\n",
    "for i in range(0, 5):\n",
    "    print(\"{:.<025} {:< 010.4e}\".format(finaldata.columns[maxcoef[i]], coef[i]))"
   ]
  },
  {
   "cell_type": "markdown",
   "metadata": {},
   "source": [
    "#### Linear Regression, L1 Regularisation <a class=\"anchor\" id=\"4.2.2-bullet\"></a> "
   ]
  },
  {
   "cell_type": "code",
   "execution_count": 92,
   "metadata": {},
   "outputs": [
    {
     "name": "stdout",
     "output_type": "stream",
     "text": [
      "0.9003098528142885\n"
     ]
    }
   ],
   "source": [
    "# Cargamos el modelo.\n",
    "linl1_clf = LassoCV()\n",
    "\n",
    "# Entrenamos el modelo.\n",
    "linl1_clf.fit(X_train, y_train)\n",
    "\n",
    "# Validación cruzada.\n",
    "acc_linl1 = cross_val_score(linl1_clf, X_train, y_train, cv=10).mean()\n",
    "print(acc_linl1)"
   ]
  },
  {
   "cell_type": "markdown",
   "metadata": {},
   "source": [
    "*Mayores influenciadores*"
   ]
  },
  {
   "cell_type": "code",
   "execution_count": 93,
   "metadata": {},
   "outputs": [
    {
     "name": "stdout",
     "output_type": "stream",
     "text": [
      "GrLivArea................  1.1757e-01\n",
      "OverallQual..............  8.1300e-02\n",
      "OverallCond..............  4.0020e-02\n",
      "GarageCars...............  3.7800e-02\n",
      "YearBuilt................  3.4879e-02\n"
     ]
    }
   ],
   "source": [
    "maxcoef = np.argsort(-np.abs(linl1_clf.coef_))\n",
    "coef = linl1_clf.coef_[maxcoef]\n",
    "for i in range(0, 5):\n",
    "    print(\"{:.<025} {:< 010.4e}\".format(finaldata.columns[maxcoef[i]], coef[i]))"
   ]
  },
  {
   "cell_type": "markdown",
   "metadata": {},
   "source": [
    "### Comparación de modelos <a class=\"anchor\" id=\"4.3.3-bullet\"></a>\n",
    "\n",
    "Una vez que tenemos las precisiones de los modelos, podemos comparar las performance de los modelos"
   ]
  },
  {
   "cell_type": "code",
   "execution_count": 94,
   "metadata": {},
   "outputs": [
    {
     "data": {
      "text/html": [
       "<div>\n",
       "<style scoped>\n",
       "    .dataframe tbody tr th:only-of-type {\n",
       "        vertical-align: middle;\n",
       "    }\n",
       "\n",
       "    .dataframe tbody tr th {\n",
       "        vertical-align: top;\n",
       "    }\n",
       "\n",
       "    .dataframe thead th {\n",
       "        text-align: right;\n",
       "    }\n",
       "</style>\n",
       "<table border=\"1\" class=\"dataframe\">\n",
       "  <thead>\n",
       "    <tr style=\"text-align: right;\">\n",
       "      <th></th>\n",
       "      <th>Model</th>\n",
       "      <th>Accuracy</th>\n",
       "    </tr>\n",
       "  </thead>\n",
       "  <tbody>\n",
       "    <tr>\n",
       "      <th>1</th>\n",
       "      <td>Linear Regression L1</td>\n",
       "      <td>0.900310</td>\n",
       "    </tr>\n",
       "    <tr>\n",
       "      <th>0</th>\n",
       "      <td>Linear Regression</td>\n",
       "      <td>0.892727</td>\n",
       "    </tr>\n",
       "  </tbody>\n",
       "</table>\n",
       "</div>"
      ],
      "text/plain": [
       "                  Model  Accuracy\n",
       "1  Linear Regression L1  0.900310\n",
       "0     Linear Regression  0.892727"
      ]
     },
     "execution_count": 94,
     "metadata": {},
     "output_type": "execute_result"
    }
   ],
   "source": [
    "# Creamos un dataframe para mostrar los datos.\n",
    "model_performance = pd.DataFrame({\n",
    "    \"Model\": [\"Linear Regression\", \"Linear Regression L1\"],\n",
    "    \"Accuracy\": [acc_linreg, acc_linl1]\n",
    "})\n",
    "\n",
    "# Ordenamos de mayor a menor.\n",
    "model_performance.sort_values(by=\"Accuracy\", ascending=False)"
   ]
  },
  {
   "cell_type": "markdown",
   "metadata": {},
   "source": [
    "Como resultado de la comparación, podemos ver que la regresión lineal con regularización L1 es la mejor opción."
   ]
  }
 ],
 "metadata": {
  "kernelspec": {
   "display_name": "Python 3",
   "language": "python",
   "name": "python3"
  },
  "language_info": {
   "codemirror_mode": {
    "name": "ipython",
    "version": 3
   },
   "file_extension": ".py",
   "mimetype": "text/x-python",
   "name": "python",
   "nbconvert_exporter": "python",
   "pygments_lexer": "ipython3",
   "version": "3.6.6"
  },
  "toc": {
   "base_numbering": 1,
   "nav_menu": {},
   "number_sections": true,
   "sideBar": true,
   "skip_h1_title": true,
   "title_cell": "Tabla de contenido",
   "title_sidebar": "Contents",
   "toc_cell": true,
   "toc_position": {},
   "toc_section_display": true,
   "toc_window_display": false
  }
 },
 "nbformat": 4,
 "nbformat_minor": 2
}
